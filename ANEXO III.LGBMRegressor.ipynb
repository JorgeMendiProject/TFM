{
  "nbformat": 4,
  "nbformat_minor": 0,
  "metadata": {
    "colab": {
      "provenance": []
    },
    "kernelspec": {
      "name": "python3",
      "display_name": "Python 3"
    },
    "language_info": {
      "name": "python"
    }
  },
  "cells": [
    {
      "cell_type": "code",
      "execution_count": null,
      "metadata": {
        "colab": {
          "base_uri": "https://localhost:8080/"
        },
        "id": "Xr6akBLynp9M",
        "outputId": "10bbb0f7-6c6a-4f74-a5d4-878d8d4658ba"
      },
      "outputs": [
        {
          "output_type": "stream",
          "name": "stdout",
          "text": [
            "Looking in indexes: https://pypi.org/simple, https://us-python.pkg.dev/colab-wheels/public/simple/\n",
            "Requirement already satisfied: skforecast in /usr/local/lib/python3.8/dist-packages (0.6.0)\n",
            "Requirement already satisfied: tqdm<4.65,>=4.57.0 in /usr/local/lib/python3.8/dist-packages (from skforecast) (4.64.1)\n",
            "Requirement already satisfied: scikit-optimize==0.9.0 in /usr/local/lib/python3.8/dist-packages (from skforecast) (0.9.0)\n",
            "Requirement already satisfied: numpy<1.24,>=1.20 in /usr/local/lib/python3.8/dist-packages (from skforecast) (1.21.6)\n",
            "Requirement already satisfied: optuna<3.1,>=2.10.0 in /usr/local/lib/python3.8/dist-packages (from skforecast) (3.0.5)\n",
            "Requirement already satisfied: pandas<1.6,>=1.2 in /usr/local/lib/python3.8/dist-packages (from skforecast) (1.3.5)\n",
            "Requirement already satisfied: joblib<1.3.0,>=1.1.0 in /usr/local/lib/python3.8/dist-packages (from skforecast) (1.2.0)\n",
            "Requirement already satisfied: scikit-learn<1.2,>=1.0 in /usr/local/lib/python3.8/dist-packages (from skforecast) (1.0.2)\n",
            "Requirement already satisfied: pyaml>=16.9 in /usr/local/lib/python3.8/dist-packages (from scikit-optimize==0.9.0->skforecast) (21.10.1)\n",
            "Requirement already satisfied: scipy>=0.19.1 in /usr/local/lib/python3.8/dist-packages (from scikit-optimize==0.9.0->skforecast) (1.7.3)\n",
            "Requirement already satisfied: PyYAML in /usr/local/lib/python3.8/dist-packages (from optuna<3.1,>=2.10.0->skforecast) (6.0)\n",
            "Requirement already satisfied: packaging>=20.0 in /usr/local/lib/python3.8/dist-packages (from optuna<3.1,>=2.10.0->skforecast) (21.3)\n",
            "Requirement already satisfied: importlib-metadata<5.0.0 in /usr/local/lib/python3.8/dist-packages (from optuna<3.1,>=2.10.0->skforecast) (4.13.0)\n",
            "Requirement already satisfied: cliff in /usr/local/lib/python3.8/dist-packages (from optuna<3.1,>=2.10.0->skforecast) (4.1.0)\n",
            "Requirement already satisfied: colorlog in /usr/local/lib/python3.8/dist-packages (from optuna<3.1,>=2.10.0->skforecast) (6.7.0)\n",
            "Requirement already satisfied: cmaes>=0.8.2 in /usr/local/lib/python3.8/dist-packages (from optuna<3.1,>=2.10.0->skforecast) (0.9.1)\n",
            "Requirement already satisfied: alembic>=1.5.0 in /usr/local/lib/python3.8/dist-packages (from optuna<3.1,>=2.10.0->skforecast) (1.9.2)\n",
            "Requirement already satisfied: sqlalchemy>=1.3.0 in /usr/local/lib/python3.8/dist-packages (from optuna<3.1,>=2.10.0->skforecast) (1.4.46)\n",
            "Requirement already satisfied: python-dateutil>=2.7.3 in /usr/local/lib/python3.8/dist-packages (from pandas<1.6,>=1.2->skforecast) (2.8.2)\n",
            "Requirement already satisfied: pytz>=2017.3 in /usr/local/lib/python3.8/dist-packages (from pandas<1.6,>=1.2->skforecast) (2022.7)\n",
            "Requirement already satisfied: threadpoolctl>=2.0.0 in /usr/local/lib/python3.8/dist-packages (from scikit-learn<1.2,>=1.0->skforecast) (3.1.0)\n",
            "Requirement already satisfied: importlib-resources in /usr/local/lib/python3.8/dist-packages (from alembic>=1.5.0->optuna<3.1,>=2.10.0->skforecast) (5.10.2)\n",
            "Requirement already satisfied: Mako in /usr/local/lib/python3.8/dist-packages (from alembic>=1.5.0->optuna<3.1,>=2.10.0->skforecast) (1.2.4)\n",
            "Requirement already satisfied: zipp>=0.5 in /usr/local/lib/python3.8/dist-packages (from importlib-metadata<5.0.0->optuna<3.1,>=2.10.0->skforecast) (3.11.0)\n",
            "Requirement already satisfied: pyparsing!=3.0.5,>=2.0.2 in /usr/local/lib/python3.8/dist-packages (from packaging>=20.0->optuna<3.1,>=2.10.0->skforecast) (3.0.9)\n",
            "Requirement already satisfied: six>=1.5 in /usr/local/lib/python3.8/dist-packages (from python-dateutil>=2.7.3->pandas<1.6,>=1.2->skforecast) (1.15.0)\n",
            "Requirement already satisfied: greenlet!=0.4.17 in /usr/local/lib/python3.8/dist-packages (from sqlalchemy>=1.3.0->optuna<3.1,>=2.10.0->skforecast) (2.0.1)\n",
            "Requirement already satisfied: stevedore>=2.0.1 in /usr/local/lib/python3.8/dist-packages (from cliff->optuna<3.1,>=2.10.0->skforecast) (4.1.1)\n",
            "Requirement already satisfied: cmd2>=1.0.0 in /usr/local/lib/python3.8/dist-packages (from cliff->optuna<3.1,>=2.10.0->skforecast) (2.4.2)\n",
            "Requirement already satisfied: autopage>=0.4.0 in /usr/local/lib/python3.8/dist-packages (from cliff->optuna<3.1,>=2.10.0->skforecast) (0.5.1)\n",
            "Requirement already satisfied: PrettyTable>=0.7.2 in /usr/local/lib/python3.8/dist-packages (from cliff->optuna<3.1,>=2.10.0->skforecast) (3.6.0)\n",
            "Requirement already satisfied: attrs>=16.3.0 in /usr/local/lib/python3.8/dist-packages (from cmd2>=1.0.0->cliff->optuna<3.1,>=2.10.0->skforecast) (22.2.0)\n",
            "Requirement already satisfied: wcwidth>=0.1.7 in /usr/local/lib/python3.8/dist-packages (from cmd2>=1.0.0->cliff->optuna<3.1,>=2.10.0->skforecast) (0.2.5)\n",
            "Requirement already satisfied: pyperclip>=1.6 in /usr/local/lib/python3.8/dist-packages (from cmd2>=1.0.0->cliff->optuna<3.1,>=2.10.0->skforecast) (1.8.2)\n",
            "Requirement already satisfied: pbr!=2.1.0,>=2.0.0 in /usr/local/lib/python3.8/dist-packages (from stevedore>=2.0.1->cliff->optuna<3.1,>=2.10.0->skforecast) (5.11.1)\n",
            "Requirement already satisfied: MarkupSafe>=0.9.2 in /usr/local/lib/python3.8/dist-packages (from Mako->alembic>=1.5.0->optuna<3.1,>=2.10.0->skforecast) (2.0.1)\n"
          ]
        }
      ],
      "source": [
        "!pip install skforecast"
      ]
    },
    {
      "cell_type": "code",
      "source": [
        "import numpy as np\n",
        "import pandas as pd\n",
        "\n",
        "# Gráficos\n",
        "# ==============================================================================\n",
        "import matplotlib.pyplot as plt\n",
        "plt.style.use('fivethirtyeight')\n",
        "plt.rcParams['lines.linewidth'] = 1.5\n",
        "%matplotlib inline\n",
        "\n",
        "\n",
        "# Modelado y Forecasting\n",
        "# ==============================================================================\n",
        "from sklearn.linear_model import LinearRegression\n",
        "from sklearn.linear_model import Lasso\n",
        "from sklearn.ensemble import RandomForestRegressor\n",
        "from sklearn.metrics import mean_squared_error\n",
        "from sklearn.preprocessing import StandardScaler\n",
        "from sklearn.pipeline import make_pipeline\n",
        "\n",
        "from skforecast.ForecasterAutoreg import ForecasterAutoreg\n",
        "from lightgbm import LGBMRegressor # Es una implementación de grading boosting bastante avanzada, incluso para incluir nuevas variables\n",
        "from skforecast.ForecasterAutoregCustom import ForecasterAutoregCustom\n",
        "from skforecast.ForecasterAutoregDirect import ForecasterAutoregDirect\n",
        "from skforecast.model_selection import grid_search_forecaster\n",
        "from skforecast.model_selection import backtesting_forecaster\n",
        "from skforecast.utils import save_forecaster\n",
        "from skforecast.utils import load_forecaster"
      ],
      "metadata": {
        "id": "K5pAFuh1n3dE"
      },
      "execution_count": null,
      "outputs": []
    },
    {
      "cell_type": "code",
      "source": [
        "# Configuración warnings\n",
        "# ==============================================================================\n",
        "import warnings\n",
        "# warnings.filterwarnings('ignore')"
      ],
      "metadata": {
        "id": "Gt0rKYL_OKiQ"
      },
      "execution_count": null,
      "outputs": []
    },
    {
      "cell_type": "code",
      "source": [
        "file = ('https://raw.githubusercontent.com/JorgeMendiProject/TFM/main/DatasetInterpolado.csv')\n",
        "#Lectura de datos a partir del archivo .csv             \n",
        "\n",
        "dataset = pd.read_csv(file,delimiter=';')\n",
        "\n",
        "dataset.info()"
      ],
      "metadata": {
        "colab": {
          "base_uri": "https://localhost:8080/"
        },
        "id": "zP4hjRF1OQa6",
        "outputId": "5d17c7b3-d963-450e-e047-b7ffbcc8354e"
      },
      "execution_count": null,
      "outputs": [
        {
          "output_type": "stream",
          "name": "stdout",
          "text": [
            "<class 'pandas.core.frame.DataFrame'>\n",
            "RangeIndex: 216 entries, 0 to 215\n",
            "Data columns (total 7 columns):\n",
            " #   Column         Non-Null Count  Dtype  \n",
            "---  ------         --------------  -----  \n",
            " 0   Fecha          216 non-null    object \n",
            " 1   TasaTPIB       216 non-null    float64\n",
            " 2   EuriborM       216 non-null    float64\n",
            " 3   ParoT          216 non-null    float64\n",
            " 4   SalarioMedio   216 non-null    int64  \n",
            " 5   IPC            216 non-null    float64\n",
            " 6   CTotalConsumo  216 non-null    int64  \n",
            "dtypes: float64(4), int64(2), object(1)\n",
            "memory usage: 11.9+ KB\n"
          ]
        }
      ]
    },
    {
      "cell_type": "code",
      "source": [
        "#Se convierte la variable Fecha a Datetime\n",
        "\n",
        "dataset['Fecha'] = pd.to_datetime(dataset['Fecha'], format='%d/%m/%Y')\n",
        "\n",
        "dataset.info()"
      ],
      "metadata": {
        "colab": {
          "base_uri": "https://localhost:8080/"
        },
        "id": "XL0U3t-kOpMn",
        "outputId": "ec048291-7f8f-4032-d16e-3ae6c9092a9d"
      },
      "execution_count": null,
      "outputs": [
        {
          "output_type": "stream",
          "name": "stdout",
          "text": [
            "<class 'pandas.core.frame.DataFrame'>\n",
            "RangeIndex: 216 entries, 0 to 215\n",
            "Data columns (total 7 columns):\n",
            " #   Column         Non-Null Count  Dtype         \n",
            "---  ------         --------------  -----         \n",
            " 0   Fecha          216 non-null    datetime64[ns]\n",
            " 1   TasaTPIB       216 non-null    float64       \n",
            " 2   EuriborM       216 non-null    float64       \n",
            " 3   ParoT          216 non-null    float64       \n",
            " 4   SalarioMedio   216 non-null    int64         \n",
            " 5   IPC            216 non-null    float64       \n",
            " 6   CTotalConsumo  216 non-null    int64         \n",
            "dtypes: datetime64[ns](1), float64(4), int64(2)\n",
            "memory usage: 11.9 KB\n"
          ]
        }
      ]
    },
    {
      "cell_type": "code",
      "source": [
        "#Se adecua al formato que tiene el archivo base, es decir si hay meses se pone como meses para que no me queden Nan, si son días se pongo como días en el archivo inicial.\n",
        "dataset = dataset.set_index('Fecha')\n",
        "dataset = dataset.rename(columns={\"Fecha\":'x',\"TasaTPIB\":'y'})  \n",
        "dataset = dataset.asfreq('M')\n",
        "dataset = dataset.sort_index()\n",
        "print(f'Número de filas con missing values: {dataset.isnull().any(axis=1).mean()}', '\\n')\n",
        "\n",
        "# Verificar que un índice temporal está completo\n",
        "# ==============================================================================\n",
        "(dataset.index == pd.date_range(\n",
        "                    start = dataset.index.min(),\n",
        "                    end   = dataset.index.max(),\n",
        "                    freq  = dataset.index.freq)\n",
        ").all()\n"
      ],
      "metadata": {
        "colab": {
          "base_uri": "https://localhost:8080/"
        },
        "id": "Y3HkuL2UO2lg",
        "outputId": "9788b5a6-b0fd-49ba-a697-420c5ff76deb"
      },
      "execution_count": null,
      "outputs": [
        {
          "output_type": "stream",
          "name": "stdout",
          "text": [
            "Número de filas con missing values: 0.0 \n",
            "\n"
          ]
        },
        {
          "output_type": "execute_result",
          "data": {
            "text/plain": [
              "True"
            ]
          },
          "metadata": {},
          "execution_count": 34
        }
      ]
    },
    {
      "cell_type": "code",
      "source": [
        "# Separación datos train-test\n",
        "# ==============================================================================\n",
        "steps = 12\n",
        "dataset_train = dataset[:-steps]\n",
        "dataset_test  = dataset[-steps:]\n",
        "\n",
        "print(f\"Fechas train : {dataset_train.index.min()} --- {dataset_train.index.max()}  (n={len(dataset_train)})\")\n",
        "print(f\"Fechas test  : {dataset_test.index.min()} --- {dataset_test.index.max()}  (n={len(dataset_test)})\", '\\n')\n",
        "\n",
        "fig, ax = plt.subplots(figsize=(9, 4))\n",
        "dataset_train['y'].plot(ax=ax, label='train')\n",
        "dataset_test['y'].plot(ax=ax, label='test')\n",
        "ax.legend();"
      ],
      "metadata": {
        "colab": {
          "base_uri": "https://localhost:8080/",
          "height": 334
        },
        "id": "j42Yho4CO9r5",
        "outputId": "2731c337-a28c-446a-8529-e9dc43fdb2ac"
      },
      "execution_count": null,
      "outputs": [
        {
          "output_type": "stream",
          "name": "stdout",
          "text": [
            "Fechas train : 2002-01-31 00:00:00 --- 2018-12-31 00:00:00  (n=204)\n",
            "Fechas test  : 2019-01-31 00:00:00 --- 2019-12-31 00:00:00  (n=12) \n",
            "\n"
          ]
        },
        {
          "output_type": "display_data",
          "data": {
            "text/plain": [
              "<Figure size 648x288 with 1 Axes>"
            ],
            "image/png": "[encoded data removed]"
          },
          "metadata": {
            "needs_background": "light"
          }
        }
      ]
    },
    {
      "cell_type": "code",
      "source": [
        "# LGBMRegressor\n",
        "# Crear y entrenar forecaster\n",
        "# ==============================================================================\n",
        "forecaster = ForecasterAutoreg(\n",
        "                regressor = LGBMRegressor(max_depth=2, learning_rate=0.1, n_estimators=50),\n",
        "                lags = 24\n",
        "                )\n",
        "forecaster.fit(y=dataset_train['y'])\n",
        "forecaster"
      ],
      "metadata": {
        "colab": {
          "base_uri": "https://localhost:8080/"
        },
        "id": "ClAsSGhUPDdy",
        "outputId": "31594a77-bd63-44ee-de49-6f9f2c3eea44"
      },
      "execution_count": null,
      "outputs": [
        {
          "output_type": "execute_result",
          "data": {
            "text/plain": [
              "================= \n",
              "ForecasterAutoreg \n",
              "================= \n",
              "Regressor: LGBMRegressor(max_depth=2, n_estimators=50) \n",
              "Lags: [ 1  2  3  4  5  6  7  8  9 10 11 12 13 14 15 16 17 18 19 20 21 22 23 24] \n",
              "Transformer for y: None \n",
              "Transformer for exog: None \n",
              "Window size: 24 \n",
              "Weight function included: False \n",
              "Exogenous included: False \n",
              "Type of exogenous variable: None \n",
              "Exogenous variables names: None \n",
              "Training range: [Timestamp('2002-01-31 00:00:00'), Timestamp('2018-12-31 00:00:00')] \n",
              "Training index type: DatetimeIndex \n",
              "Training index frequency: M \n",
              "Regressor parameters: {'boosting_type': 'gbdt', 'class_weight': None, 'colsample_bytree': 1.0, 'importance_type': 'split', 'learning_rate': 0.1, 'max_depth': 2, 'min_child_samples': 20, 'min_child_weight': 0.001, 'min_split_gain': 0.0, 'n_estimators': 50, 'n_jobs': -1, 'num_leaves': 31, 'objective': None, 'random_state': None, 'reg_alpha': 0.0, 'reg_lambda': 0.0, 'silent': True, 'subsample': 1.0, 'subsample_for_bin': 200000, 'subsample_freq': 0} \n",
              "Creation date: 2023-01-25 16:10:00 \n",
              "Last fit date: 2023-01-25 16:10:01 \n",
              "Skforecast version: 0.6.0 \n",
              "Python version: 3.8.10 "
            ]
          },
          "metadata": {},
          "execution_count": 15
        }
      ]
    },
    {
      "cell_type": "code",
      "source": [
        "# Predicciones\n",
        "# ==============================================================================\n",
        "steps = 12\n",
        "predicciones = forecaster.predict(steps=steps)\n",
        "predicciones"
      ],
      "metadata": {
        "colab": {
          "base_uri": "https://localhost:8080/"
        },
        "id": "YGAtbzpnPMgB",
        "outputId": "8748ead3-3b4b-4ab0-ede5-423db50c5fa8"
      },
      "execution_count": null,
      "outputs": [
        {
          "output_type": "execute_result",
          "data": {
            "text/plain": [
              "2019-01-31    0.624951\n",
              "2019-02-28    0.567219\n",
              "2019-03-31    0.567219\n",
              "2019-04-30    0.512639\n",
              "2019-05-31    0.467925\n",
              "2019-06-30    0.467925\n",
              "2019-07-31    0.611009\n",
              "2019-08-31    0.649819\n",
              "2019-09-30    0.713455\n",
              "2019-10-31    0.792621\n",
              "2019-11-30    0.810640\n",
              "2019-12-31    0.810640\n",
              "Freq: M, Name: pred, dtype: float64"
            ]
          },
          "metadata": {},
          "execution_count": 16
        }
      ]
    },
    {
      "cell_type": "code",
      "source": [
        "# Gráfico Predicciones\n",
        "# ==============================================================================\n",
        "fig, ax = plt.subplots(figsize=(9, 4))\n",
        "dataset_train['y'].plot(ax=ax, label='train')\n",
        "dataset_test['y'].plot(ax=ax, label='test')\n",
        "predicciones.plot(ax=ax, label='predicciones')\n",
        "ax.legend();"
      ],
      "metadata": {
        "colab": {
          "base_uri": "https://localhost:8080/",
          "height": 279
        },
        "id": "GbD3Mmz1PVUr",
        "outputId": "8fa8a016-7078-42c6-e5f6-d12f613685e3"
      },
      "execution_count": null,
      "outputs": [
        {
          "output_type": "display_data",
          "data": {
            "text/plain": [
              "<Figure size 648x288 with 1 Axes>"
            ],
            "image/png": "[encoded data removed]"
          },
          "metadata": {
            "needs_background": "light"
          }
        }
      ]
    },
    {
      "cell_type": "code",
      "source": [
        "# Error test LGBM\n",
        "# ==============================================================================\n",
        "error_mse = mean_squared_error(\n",
        "                y_true = dataset_test['y'],\n",
        "                y_pred = predicciones\n",
        "            )\n",
        "\n",
        "print(f\"Error de test (mse): {error_mse}\", '\\n')"
      ],
      "metadata": {
        "colab": {
          "base_uri": "https://localhost:8080/"
        },
        "id": "gNjwKDWLPXaK",
        "outputId": "fd1f036b-ebf4-4288-9ca2-351be4067bac"
      },
      "execution_count": null,
      "outputs": [
        {
          "output_type": "stream",
          "name": "stdout",
          "text": [
            "Error de test (mse): 0.12480004587061257 \n",
            "\n"
          ]
        }
      ]
    },
    {
      "cell_type": "code",
      "source": [
        "# Grid search de hiperparámetros\n",
        "# ==============================================================================\n",
        "steps = 12\n",
        "forecaster = ForecasterAutoreg(\n",
        "                regressor = LGBMRegressor(max_depth=2, learning_rate=0.1, n_estimators=50),\n",
        "                lags      = 24 # Este valor será remplazado en el grid search\n",
        "             )\n",
        "\n",
        "# Lags utilizados como predictores\n",
        "lags_grid = [1, 48]\n",
        "\n",
        "# Hiperparámetros del regresor\n",
        "param_grid = {'n_estimators': [100, 500],\n",
        "              'max_depth': [1, 3, 5, 10],\n",
        "              'learning_rate':[0.1, 1] }\n",
        "\n",
        "resultados_grid = grid_search_forecaster(\n",
        "                        forecaster         = forecaster,\n",
        "                        y                  = dataset_train['y'],\n",
        "                        param_grid         = param_grid,\n",
        "                        lags_grid          = lags_grid,\n",
        "                        steps              = steps,\n",
        "                        refit              = True,\n",
        "                        metric             = 'mean_squared_error',\n",
        "                        initial_train_size = int(len(dataset_train)*0.5),\n",
        "                        fixed_train_size   = False,\n",
        "                        return_best        = True,\n",
        "                        verbose            = False\n",
        "                  )\n",
        "\n",
        "# Resultados Grid Search\n",
        "# ==============================================================================\n",
        "resultados_grid\n",
        "print(\"los mejores resultados se dan: Usando una ventana temporal de 1 lag, y un LGBM de:(3 de profundidad y 500 estimadores)\", '\\n' \"esto se ve en variable explorer: resultados grid\")"
      ],
      "metadata": {
        "colab": {
          "base_uri": "https://localhost:8080/"
        },
        "id": "RTLYVgV6Piza",
        "outputId": "1f668e92-59c6-4b9b-a72b-bf6a65b5fcd4"
      },
      "execution_count": null,
      "outputs": [
        {
          "output_type": "stream",
          "name": "stdout",
          "text": [
            "Number of models compared: 32.\n"
          ]
        },
        {
          "output_type": "stream",
          "name": "stderr",
          "text": [
            "loop lags_grid:   0%|                                               | 0/2 [00:00<?, ?it/s]\n",
            "loop param_grid:   0%|                                             | 0/16 [00:00<?, ?it/s]\u001b[A\n",
            "loop param_grid:   6%|██▎                                  | 1/16 [00:00<00:02,  7.19it/s]\u001b[A\n",
            "loop param_grid:  12%|████▋                                | 2/16 [00:00<00:03,  3.74it/s]\u001b[A\n",
            "loop param_grid:  19%|██████▉                              | 3/16 [00:00<00:03,  4.25it/s]\u001b[A\n",
            "loop param_grid:  25%|█████████▎                           | 4/16 [00:01<00:03,  3.00it/s]\u001b[A\n",
            "loop param_grid:  31%|███████████▌                         | 5/16 [00:01<00:03,  3.28it/s]\u001b[A\n",
            "loop param_grid:  38%|█████████████▉                       | 6/16 [00:01<00:03,  2.62it/s]\u001b[A\n",
            "loop param_grid:  44%|████████████████▏                    | 7/16 [00:02<00:02,  3.11it/s]\u001b[A\n",
            "loop param_grid:  50%|██████████████████▌                  | 8/16 [00:02<00:03,  2.33it/s]\u001b[A\n",
            "loop param_grid:  56%|████████████████████▊                | 9/16 [00:02<00:02,  2.92it/s]\u001b[A\n",
            "loop param_grid:  62%|██████████████████████▌             | 10/16 [00:04<00:04,  1.49it/s]\u001b[A\n",
            "loop param_grid:  69%|████████████████████████▊           | 11/16 [00:04<00:02,  1.90it/s]\u001b[A\n",
            "loop param_grid:  75%|███████████████████████████         | 12/16 [00:05<00:02,  1.95it/s]\u001b[A\n",
            "loop param_grid:  81%|█████████████████████████████▎      | 13/16 [00:05<00:01,  2.39it/s]\u001b[A\n",
            "loop param_grid:  88%|███████████████████████████████▌    | 14/16 [00:05<00:00,  2.11it/s]\u001b[A\n",
            "loop param_grid:  94%|█████████████████████████████████▊  | 15/16 [00:06<00:00,  2.52it/s]\u001b[A\n",
            "loop param_grid: 100%|████████████████████████████████████| 16/16 [00:06<00:00,  2.21it/s]\u001b[A\n",
            "loop lags_grid:  50%|███████████████████▌                   | 1/2 [00:06<00:06,  6.68s/it]\n",
            "loop param_grid:   0%|                                             | 0/16 [00:00<?, ?it/s]\u001b[A\n",
            "loop param_grid:   6%|██▎                                  | 1/16 [00:00<00:03,  4.31it/s]\u001b[A\n",
            "loop param_grid:  12%|████▋                                | 2/16 [00:00<00:05,  2.48it/s]\u001b[A\n",
            "loop param_grid:  19%|██████▉                              | 3/16 [00:01<00:04,  2.81it/s]\u001b[A\n",
            "loop param_grid:  25%|█████████▎                           | 4/16 [00:01<00:06,  1.83it/s]\u001b[A\n",
            "loop param_grid:  31%|███████████▌                         | 5/16 [00:02<00:05,  2.13it/s]\u001b[A\n",
            "loop param_grid:  38%|█████████████▉                       | 6/16 [00:03<00:06,  1.57it/s]\u001b[A\n",
            "loop param_grid:  44%|████████████████▏                    | 7/16 [00:03<00:04,  1.90it/s]\u001b[A\n",
            "loop param_grid:  50%|██████████████████▌                  | 8/16 [00:04<00:05,  1.51it/s]\u001b[A\n",
            "loop param_grid:  56%|████████████████████▊                | 9/16 [00:04<00:03,  1.93it/s]\u001b[A\n",
            "loop param_grid:  62%|██████████████████████▌             | 10/16 [00:05<00:03,  1.88it/s]\u001b[A\n",
            "loop param_grid:  69%|████████████████████████▊           | 11/16 [00:05<00:02,  2.21it/s]\u001b[A\n",
            "loop param_grid:  75%|███████████████████████████         | 12/16 [00:06<00:02,  1.69it/s]\u001b[A\n",
            "loop param_grid:  81%|█████████████████████████████▎      | 13/16 [00:06<00:01,  2.01it/s]\u001b[A\n",
            "loop param_grid:  88%|███████████████████████████████▌    | 14/16 [00:07<00:01,  1.62it/s]\u001b[A\n",
            "loop param_grid:  94%|█████████████████████████████████▊  | 15/16 [00:07<00:00,  1.92it/s]\u001b[A\n",
            "loop param_grid: 100%|████████████████████████████████████| 16/16 [00:08<00:00,  1.57it/s]\u001b[A\n",
            "loop lags_grid: 100%|███████████████████████████████████████| 2/2 [00:15<00:00,  7.74s/it]"
          ]
        },
        {
          "output_type": "stream",
          "name": "stdout",
          "text": [
            "`Forecaster` refitted using the best-found lags and parameters, and the whole data set: \n",
            "  Lags: [1] \n",
            "  Parameters: {'learning_rate': 1, 'max_depth': 1, 'n_estimators': 500}\n",
            "  Backtesting metric: 0.1584157273466774\n",
            "\n",
            "los mejores resultados se dan: Usando una ventana temporal de 1 lag, y un LGBM de:(3 de profundidad y 500 estimadores) \n",
            "esto se ve en variable explorer: resultados grid\n"
          ]
        },
        {
          "output_type": "stream",
          "name": "stderr",
          "text": [
            "\n"
          ]
        }
      ]
    },
    {
      "cell_type": "code",
      "source": [
        "# Crear y entrenar forecaster con mejores hiperparámetros\n",
        "# ==============================================================================\n",
        "regressor = LGBMRegressor(max_depth=1, learning_rate=1, n_estimators=500)\n",
        "forecaster = ForecasterAutoreg(\n",
        "                regressor = regressor,\n",
        "                lags      = 1\n",
        "             )\n",
        "\n",
        "forecaster.fit(y=dataset_train['y'])"
      ],
      "metadata": {
        "id": "4hziub-7QSVo"
      },
      "execution_count": null,
      "outputs": []
    },
    {
      "cell_type": "code",
      "source": [
        "# Predicciones\n",
        "# ==============================================================================\n",
        "predicciones = forecaster.predict(steps=steps)\n",
        "print(predicciones)\n",
        "\n",
        "# Gráfico\n",
        "# ==============================================================================\n",
        "fig, ax = plt.subplots(figsize=(9, 4))\n",
        "dataset_train['y'].plot(ax=ax, label='train')\n",
        "dataset_test['y'].plot(ax=ax, label='test')\n",
        "predicciones.plot(ax=ax, label='predicciones')\n",
        "ax.legend();\n",
        "\n",
        "\n",
        "# Error de test\n",
        "# ==============================================================================\n",
        "error_mse = mean_squared_error(\n",
        "                y_true = dataset_test['y'],\n",
        "                y_pred = predicciones\n",
        "            )\n",
        "\n",
        "print(f\"Error de test (mse) {error_mse}\")"
      ],
      "metadata": {
        "colab": {
          "base_uri": "https://localhost:8080/",
          "height": 537
        },
        "id": "44psVhfdQbho",
        "outputId": "eafe5caf-157f-47f8-a65b-1de64ffaeb66"
      },
      "execution_count": null,
      "outputs": [
        {
          "output_type": "stream",
          "name": "stdout",
          "text": [
            "2019-01-31    0.698950\n",
            "2019-02-28    0.626681\n",
            "2019-03-31    0.597510\n",
            "2019-04-30    0.698109\n",
            "2019-05-31    0.626681\n",
            "2019-06-30    0.597510\n",
            "2019-07-31    0.698109\n",
            "2019-08-31    0.626681\n",
            "2019-09-30    0.597510\n",
            "2019-10-31    0.698109\n",
            "2019-11-30    0.626681\n",
            "2019-12-31    0.597510\n",
            "Freq: M, Name: pred, dtype: float64\n",
            "Error de test (mse) 0.09850408837155354\n"
          ]
        },
        {
          "output_type": "display_data",
          "data": {
            "text/plain": [
              "<Figure size 648x288 with 1 Axes>"
            ],
            "image/png": "[encoded data removed]"
          },
          "metadata": {
            "needs_background": "light"
          }
        }
      ]
    },
    {
      "cell_type": "code",
      "source": [
        "# Backtesting\n",
        "# ==============================================================================\n",
        "steps = 3\n",
        "n_backtesting = steps*4 #Se separan el útltimo año para el backtest\n",
        "metrica, predicciones_backtest = backtesting_forecaster(\n",
        "                                    forecaster         = forecaster,\n",
        "                                    y                  = dataset['y'],\n",
        "                                    initial_train_size = len(dataset) - n_backtesting,\n",
        "                                    fixed_train_size   = False,\n",
        "                                    steps              = steps,\n",
        "                                    refit              = True,\n",
        "                                    metric             = 'mean_squared_error',\n",
        "                                    verbose            = True\n",
        "                                 )\n",
        "\n",
        "print(f\"Error de backtest: {metrica}\",'\\n')\n",
        "predicciones_backtest\n"
      ],
      "metadata": {
        "colab": {
          "base_uri": "https://localhost:8080/",
          "height": 831
        },
        "id": "xj1H2fkOQi2z",
        "outputId": "6b2fa3b0-3cda-4e0f-8955-7bbba6eda9a7"
      },
      "execution_count": null,
      "outputs": [
        {
          "output_type": "stream",
          "name": "stdout",
          "text": [
            "Information of backtesting process\n",
            "----------------------------------\n",
            "Number of observations used for initial training: 204\n",
            "Number of observations used for backtesting: 12\n",
            "    Number of folds: 4\n",
            "    Number of steps per fold: 3\n",
            "\n",
            "Data partition in fold: 0\n",
            "    Training:   2002-01-31 00:00:00 -- 2018-12-31 00:00:00  (n=204)\n",
            "    Validation: 2019-01-31 00:00:00 -- 2019-03-31 00:00:00  (n=3)\n",
            "Data partition in fold: 1\n",
            "    Training:   2002-01-31 00:00:00 -- 2019-03-31 00:00:00  (n=207)\n",
            "    Validation: 2019-04-30 00:00:00 -- 2019-06-30 00:00:00  (n=3)\n",
            "Data partition in fold: 2\n",
            "    Training:   2002-01-31 00:00:00 -- 2019-06-30 00:00:00  (n=210)\n",
            "    Validation: 2019-07-31 00:00:00 -- 2019-09-30 00:00:00  (n=3)\n",
            "Data partition in fold: 3\n",
            "    Training:   2002-01-31 00:00:00 -- 2019-09-30 00:00:00  (n=213)\n",
            "    Validation: 2019-10-31 00:00:00 -- 2019-12-31 00:00:00  (n=3)\n",
            "\n",
            "Error de backtest: 0.018634511892910235 \n",
            "\n"
          ]
        },
        {
          "output_type": "execute_result",
          "data": {
            "text/plain": [
              "                pred\n",
              "2019-01-31  0.698950\n",
              "2019-02-28  0.626681\n",
              "2019-03-31  0.597510\n",
              "2019-04-30  0.638129\n",
              "2019-05-31  0.525298\n",
              "2019-06-30  0.562137\n",
              "2019-07-31  0.379922\n",
              "2019-08-31  0.379922\n",
              "2019-09-30  0.379922\n",
              "2019-10-31  0.316112\n",
              "2019-11-30  0.316112\n",
              "2019-12-31  0.316112"
            ],
            "text/html": [
              "\n",
              "  <div id=\"df-b9588e32-6dff-43dd-96eb-8d61741cabdd\">\n",
              "    <div class=\"colab-df-container\">\n",
              "      <div>\n",
              "<style scoped>\n",
              "    .dataframe tbody tr th:only-of-type {\n",
              "        vertical-align: middle;\n",
              "    }\n",
              "\n",
              "    .dataframe tbody tr th {\n",
              "        vertical-align: top;\n",
              "    }\n",
              "\n",
              "    .dataframe thead th {\n",
              "        text-align: right;\n",
              "    }\n",
              "</style>\n",
              "<table border=\"1\" class=\"dataframe\">\n",
              "  <thead>\n",
              "    <tr style=\"text-align: right;\">\n",
              "      <th></th>\n",
              "      <th>pred</th>\n",
              "    </tr>\n",
              "  </thead>\n",
              "  <tbody>\n",
              "    <tr>\n",
              "      <th>2019-01-31</th>\n",
              "      <td>0.698950</td>\n",
              "    </tr>\n",
              "    <tr>\n",
              "      <th>2019-02-28</th>\n",
              "      <td>0.626681</td>\n",
              "    </tr>\n",
              "    <tr>\n",
              "      <th>2019-03-31</th>\n",
              "      <td>0.597510</td>\n",
              "    </tr>\n",
              "    <tr>\n",
              "      <th>2019-04-30</th>\n",
              "      <td>0.638129</td>\n",
              "    </tr>\n",
              "    <tr>\n",
              "      <th>2019-05-31</th>\n",
              "      <td>0.525298</td>\n",
              "    </tr>\n",
              "    <tr>\n",
              "      <th>2019-06-30</th>\n",
              "      <td>0.562137</td>\n",
              "    </tr>\n",
              "    <tr>\n",
              "      <th>2019-07-31</th>\n",
              "      <td>0.379922</td>\n",
              "    </tr>\n",
              "    <tr>\n",
              "      <th>2019-08-31</th>\n",
              "      <td>0.379922</td>\n",
              "    </tr>\n",
              "    <tr>\n",
              "      <th>2019-09-30</th>\n",
              "      <td>0.379922</td>\n",
              "    </tr>\n",
              "    <tr>\n",
              "      <th>2019-10-31</th>\n",
              "      <td>0.316112</td>\n",
              "    </tr>\n",
              "    <tr>\n",
              "      <th>2019-11-30</th>\n",
              "      <td>0.316112</td>\n",
              "    </tr>\n",
              "    <tr>\n",
              "      <th>2019-12-31</th>\n",
              "      <td>0.316112</td>\n",
              "    </tr>\n",
              "  </tbody>\n",
              "</table>\n",
              "</div>\n",
              "      <button class=\"colab-df-convert\" onclick=\"convertToInteractive('df-b9588e32-6dff-43dd-96eb-8d61741cabdd')\"\n",
              "              title=\"Convert this dataframe to an interactive table.\"\n",
              "              style=\"display:none;\">\n",
              "        \n",
              "  <svg xmlns=\"http://www.w3.org/2000/svg\" height=\"24px\"viewBox=\"0 0 24 24\"\n",
              "       width=\"24px\">\n",
              "    <path d=\"M0 0h24v24H0V0z\" fill=\"none\"/>\n",
              "    <path d=\"M18.56 5.44l.94 2.06.94-2.06 2.06-.94-2.06-.94-.94-2.06-.94 2.06-2.06.94zm-11 1L8.5 8.5l.94-2.06 2.06-.94-2.06-.94L8.5 2.5l-.94 2.06-2.06.94zm10 10l.94 2.06.94-2.06 2.06-.94-2.06-.94-.94-2.06-.94 2.06-2.06.94z\"/><path d=\"M17.41 7.96l-1.37-1.37c-.4-.4-.92-.59-1.43-.59-.52 0-1.04.2-1.43.59L10.3 9.45l-7.72 7.72c-.78.78-.78 2.05 0 2.83L4 21.41c.39.39.9.59 1.41.59.51 0 1.02-.2 1.41-.59l7.78-7.78 2.81-2.81c.8-.78.8-2.07 0-2.86zM5.41 20L4 18.59l7.72-7.72 1.47 1.35L5.41 20z\"/>\n",
              "  </svg>\n",
              "      </button>\n",
              "      \n",
              "  <style>\n",
              "    .colab-df-container {\n",
              "      display:flex;\n",
              "      flex-wrap:wrap;\n",
              "      gap: 12px;\n",
              "    }\n",
              "\n",
              "    .colab-df-convert {\n",
              "      background-color: #E8F0FE;\n",
              "      border: none;\n",
              "      border-radius: 50%;\n",
              "      cursor: pointer;\n",
              "      display: none;\n",
              "      fill: #1967D2;\n",
              "      height: 32px;\n",
              "      padding: 0 0 0 0;\n",
              "      width: 32px;\n",
              "    }\n",
              "\n",
              "    .colab-df-convert:hover {\n",
              "      background-color: #E2EBFA;\n",
              "      box-shadow: 0px 1px 2px rgba(60, 64, 67, 0.3), 0px 1px 3px 1px rgba(60, 64, 67, 0.15);\n",
              "      fill: #174EA6;\n",
              "    }\n",
              "\n",
              "    [theme=dark] .colab-df-convert {\n",
              "      background-color: #3B4455;\n",
              "      fill: #D2E3FC;\n",
              "    }\n",
              "\n",
              "    [theme=dark] .colab-df-convert:hover {\n",
              "      background-color: #434B5C;\n",
              "      box-shadow: 0px 1px 3px 1px rgba(0, 0, 0, 0.15);\n",
              "      filter: drop-shadow(0px 1px 2px rgba(0, 0, 0, 0.3));\n",
              "      fill: #FFFFFF;\n",
              "    }\n",
              "  </style>\n",
              "\n",
              "      <script>\n",
              "        const buttonEl =\n",
              "          document.querySelector('#df-b9588e32-6dff-43dd-96eb-8d61741cabdd button.colab-df-convert');\n",
              "        buttonEl.style.display =\n",
              "          google.colab.kernel.accessAllowed ? 'block' : 'none';\n",
              "\n",
              "        async function convertToInteractive(key) {\n",
              "          const element = document.querySelector('#df-b9588e32-6dff-43dd-96eb-8d61741cabdd');\n",
              "          const dataTable =\n",
              "            await google.colab.kernel.invokeFunction('convertToInteractive',\n",
              "                                                     [key], {});\n",
              "          if (!dataTable) return;\n",
              "\n",
              "          const docLinkHtml = 'Like what you see? Visit the ' +\n",
              "            '<a target=\"_blank\" href=https://colab.research.google.com/notebooks/data_table.ipynb>data table notebook</a>'\n",
              "            + ' to learn more about interactive tables.';\n",
              "          element.innerHTML = '';\n",
              "          dataTable['output_type'] = 'display_data';\n",
              "          await google.colab.output.renderOutput(dataTable, element);\n",
              "          const docLink = document.createElement('div');\n",
              "          docLink.innerHTML = docLinkHtml;\n",
              "          element.appendChild(docLink);\n",
              "        }\n",
              "      </script>\n",
              "    </div>\n",
              "  </div>\n",
              "  "
            ]
          },
          "metadata": {},
          "execution_count": 22
        }
      ]
    },
    {
      "cell_type": "code",
      "source": [
        "# Gráfico del Backtesting\n",
        "# ========================\n",
        "fig, ax = plt.subplots(figsize=(9, 4))\n",
        "dataset_test['y'].plot(ax=ax, label='test')\n",
        "predicciones_backtest.plot(ax=ax, label='predicciones_backtest')\n",
        "ax.legend();\n"
      ],
      "metadata": {
        "colab": {
          "base_uri": "https://localhost:8080/",
          "height": 290
        },
        "id": "22XTLuP8RTbV",
        "outputId": "1ff37409-64d3-4e0f-99eb-deb4bda7837a"
      },
      "execution_count": null,
      "outputs": [
        {
          "output_type": "display_data",
          "data": {
            "text/plain": [
              "<Figure size 648x288 with 1 Axes>"
            ],
            "image/png": "[encoded data removed]"
          },
          "metadata": {
            "needs_background": "light"
          }
        }
      ]
    },
    {
      "cell_type": "code",
      "source": [
        "# Importancia predictores\n",
        "# ==============================================================================\n",
        "impotancia = forecaster.get_feature_importance()\n",
        "impotancia"
      ],
      "metadata": {
        "colab": {
          "base_uri": "https://localhost:8080/",
          "height": 81
        },
        "id": "Q72MsIqyR5zV",
        "outputId": "cbae1bd9-1f64-4b53-8b6d-ff9d2a68ea2e"
      },
      "execution_count": null,
      "outputs": [
        {
          "output_type": "execute_result",
          "data": {
            "text/plain": [
              "  feature  importance\n",
              "0   lag_1         500"
            ],
            "text/html": [
              "\n",
              "  <div id=\"df-66275f71-17b8-40a4-8d4b-2ef789d79cb8\">\n",
              "    <div class=\"colab-df-container\">\n",
              "      <div>\n",
              "<style scoped>\n",
              "    .dataframe tbody tr th:only-of-type {\n",
              "        vertical-align: middle;\n",
              "    }\n",
              "\n",
              "    .dataframe tbody tr th {\n",
              "        vertical-align: top;\n",
              "    }\n",
              "\n",
              "    .dataframe thead th {\n",
              "        text-align: right;\n",
              "    }\n",
              "</style>\n",
              "<table border=\"1\" class=\"dataframe\">\n",
              "  <thead>\n",
              "    <tr style=\"text-align: right;\">\n",
              "      <th></th>\n",
              "      <th>feature</th>\n",
              "      <th>importance</th>\n",
              "    </tr>\n",
              "  </thead>\n",
              "  <tbody>\n",
              "    <tr>\n",
              "      <th>0</th>\n",
              "      <td>lag_1</td>\n",
              "      <td>500</td>\n",
              "    </tr>\n",
              "  </tbody>\n",
              "</table>\n",
              "</div>\n",
              "      <button class=\"colab-df-convert\" onclick=\"convertToInteractive('df-66275f71-17b8-40a4-8d4b-2ef789d79cb8')\"\n",
              "              title=\"Convert this dataframe to an interactive table.\"\n",
              "              style=\"display:none;\">\n",
              "        \n",
              "  <svg xmlns=\"http://www.w3.org/2000/svg\" height=\"24px\"viewBox=\"0 0 24 24\"\n",
              "       width=\"24px\">\n",
              "    <path d=\"M0 0h24v24H0V0z\" fill=\"none\"/>\n",
              "    <path d=\"M18.56 5.44l.94 2.06.94-2.06 2.06-.94-2.06-.94-.94-2.06-.94 2.06-2.06.94zm-11 1L8.5 8.5l.94-2.06 2.06-.94-2.06-.94L8.5 2.5l-.94 2.06-2.06.94zm10 10l.94 2.06.94-2.06 2.06-.94-2.06-.94-.94-2.06-.94 2.06-2.06.94z\"/><path d=\"M17.41 7.96l-1.37-1.37c-.4-.4-.92-.59-1.43-.59-.52 0-1.04.2-1.43.59L10.3 9.45l-7.72 7.72c-.78.78-.78 2.05 0 2.83L4 21.41c.39.39.9.59 1.41.59.51 0 1.02-.2 1.41-.59l7.78-7.78 2.81-2.81c.8-.78.8-2.07 0-2.86zM5.41 20L4 18.59l7.72-7.72 1.47 1.35L5.41 20z\"/>\n",
              "  </svg>\n",
              "      </button>\n",
              "      \n",
              "  <style>\n",
              "    .colab-df-container {\n",
              "      display:flex;\n",
              "      flex-wrap:wrap;\n",
              "      gap: 12px;\n",
              "    }\n",
              "\n",
              "    .colab-df-convert {\n",
              "      background-color: #E8F0FE;\n",
              "      border: none;\n",
              "      border-radius: 50%;\n",
              "      cursor: pointer;\n",
              "      display: none;\n",
              "      fill: #1967D2;\n",
              "      height: 32px;\n",
              "      padding: 0 0 0 0;\n",
              "      width: 32px;\n",
              "    }\n",
              "\n",
              "    .colab-df-convert:hover {\n",
              "      background-color: #E2EBFA;\n",
              "      box-shadow: 0px 1px 2px rgba(60, 64, 67, 0.3), 0px 1px 3px 1px rgba(60, 64, 67, 0.15);\n",
              "      fill: #174EA6;\n",
              "    }\n",
              "\n",
              "    [theme=dark] .colab-df-convert {\n",
              "      background-color: #3B4455;\n",
              "      fill: #D2E3FC;\n",
              "    }\n",
              "\n",
              "    [theme=dark] .colab-df-convert:hover {\n",
              "      background-color: #434B5C;\n",
              "      box-shadow: 0px 1px 3px 1px rgba(0, 0, 0, 0.15);\n",
              "      filter: drop-shadow(0px 1px 2px rgba(0, 0, 0, 0.3));\n",
              "      fill: #FFFFFF;\n",
              "    }\n",
              "  </style>\n",
              "\n",
              "      <script>\n",
              "        const buttonEl =\n",
              "          document.querySelector('#df-66275f71-17b8-40a4-8d4b-2ef789d79cb8 button.colab-df-convert');\n",
              "        buttonEl.style.display =\n",
              "          google.colab.kernel.accessAllowed ? 'block' : 'none';\n",
              "\n",
              "        async function convertToInteractive(key) {\n",
              "          const element = document.querySelector('#df-66275f71-17b8-40a4-8d4b-2ef789d79cb8');\n",
              "          const dataTable =\n",
              "            await google.colab.kernel.invokeFunction('convertToInteractive',\n",
              "                                                     [key], {});\n",
              "          if (!dataTable) return;\n",
              "\n",
              "          const docLinkHtml = 'Like what you see? Visit the ' +\n",
              "            '<a target=\"_blank\" href=https://colab.research.google.com/notebooks/data_table.ipynb>data table notebook</a>'\n",
              "            + ' to learn more about interactive tables.';\n",
              "          element.innerHTML = '';\n",
              "          dataTable['output_type'] = 'display_data';\n",
              "          await google.colab.output.renderOutput(dataTable, element);\n",
              "          const docLink = document.createElement('div');\n",
              "          docLink.innerHTML = docLinkHtml;\n",
              "          element.appendChild(docLink);\n",
              "        }\n",
              "      </script>\n",
              "    </div>\n",
              "  </div>\n",
              "  "
            ]
          },
          "metadata": {},
          "execution_count": 24
        }
      ]
    },
    {
      "cell_type": "code",
      "source": [
        "# Crear y entrenar forecaster con mejores hiperparámetros\n",
        "# ==============================================================================\n",
        "regressor = LGBMRegressor(max_depth=1, learning_rate=1, n_estimators=500)\n",
        "forecaster = ForecasterAutoreg(\n",
        "                regressor = regressor,\n",
        "                lags      = 1\n",
        "             )\n"
      ],
      "metadata": {
        "colab": {
          "base_uri": "https://localhost:8080/",
          "height": 36
        },
        "id": "UdYb1SKKz65C",
        "outputId": "59bc0843-56c8-47c9-d043-121db20c8e91"
      },
      "execution_count": null,
      "outputs": [
        {
          "output_type": "execute_result",
          "data": {
            "text/plain": [
              "\"\\nforecaster.fit(y=dataset_train['y'])\\n\""
            ],
            "application/vnd.google.colaboratory.intrinsic+json": {
              "type": "string"
            }
          },
          "metadata": {},
          "execution_count": 25
        }
      ]
    },
    {
      "cell_type": "code",
      "source": [
        "# Se añaden las variables exógenas y se reentrena el modelo\n",
        "# =============================================================================\n",
        "\n",
        "variables_exog = ['EuriborM', 'ParoT', 'SalarioMedio', 'IPC','CTotalConsumo']\n",
        "fin_train = '31/12/2018'\n",
        "forecaster.fit(\n",
        "    y= dataset.loc[:fin_train:,'y'],\n",
        "    exog= dataset.loc[:fin_train:, variables_exog]\n",
        "    ) # Entrenamiento con conjuntos de train\n",
        "forecaster"
      ],
      "metadata": {
        "colab": {
          "base_uri": "https://localhost:8080/"
        },
        "id": "QmZSQRCTwfhM",
        "outputId": "607f1648-f4cc-4ba2-d7ea-9066bec230e9"
      },
      "execution_count": null,
      "outputs": [
        {
          "output_type": "execute_result",
          "data": {
            "text/plain": [
              "================= \n",
              "ForecasterAutoreg \n",
              "================= \n",
              "Regressor: LGBMRegressor(learning_rate=1, max_depth=1, n_estimators=500) \n",
              "Lags: [1] \n",
              "Transformer for y: None \n",
              "Transformer for exog: None \n",
              "Window size: 1 \n",
              "Weight function included: False \n",
              "Exogenous included: True \n",
              "Type of exogenous variable: <class 'pandas.core.frame.DataFrame'> \n",
              "Exogenous variables names: ['EuriborM', 'ParoT', 'SalarioMedio', 'IPC', 'CTotalConsumo'] \n",
              "Training range: [Timestamp('2002-01-31 00:00:00'), Timestamp('2018-12-31 00:00:00')] \n",
              "Training index type: DatetimeIndex \n",
              "Training index frequency: M \n",
              "Regressor parameters: {'boosting_type': 'gbdt', 'class_weight': None, 'colsample_bytree': 1.0, 'importance_type': 'split', 'learning_rate': 1, 'max_depth': 1, 'min_child_samples': 20, 'min_child_weight': 0.001, 'min_split_gain': 0.0, 'n_estimators': 500, 'n_jobs': -1, 'num_leaves': 31, 'objective': None, 'random_state': None, 'reg_alpha': 0.0, 'reg_lambda': 0.0, 'silent': True, 'subsample': 1.0, 'subsample_for_bin': 200000, 'subsample_freq': 0} \n",
              "Creation date: 2023-01-25 16:10:49 \n",
              "Last fit date: 2023-01-25 16:10:53 \n",
              "Skforecast version: 0.6.0 \n",
              "Python version: 3.8.10 "
            ]
          },
          "metadata": {},
          "execution_count": 26
        }
      ]
    },
    {
      "cell_type": "code",
      "source": [
        "exog_siguientes_12meses = dataset_test[variables_exog][:12]\n",
        "\n",
        "predicciones = forecaster.predict(steps=12, exog=exog_siguientes_12meses)\n",
        "predicciones"
      ],
      "metadata": {
        "colab": {
          "base_uri": "https://localhost:8080/"
        },
        "id": "T_CHh45L1AlB",
        "outputId": "018abc19-e8ec-4382-fcd7-68f293d3968e"
      },
      "execution_count": null,
      "outputs": [
        {
          "output_type": "execute_result",
          "data": {
            "text/plain": [
              "2019-01-31    0.605688\n",
              "2019-02-28    0.560929\n",
              "2019-03-31    0.551848\n",
              "2019-04-30    0.588070\n",
              "2019-05-31    0.551848\n",
              "2019-06-30    0.572890\n",
              "2019-07-31    0.528541\n",
              "2019-08-31    0.566523\n",
              "2019-09-30    0.572890\n",
              "2019-10-31    0.588070\n",
              "2019-11-30    0.551848\n",
              "2019-12-31    0.572890\n",
              "Freq: M, Name: pred, dtype: float64"
            ]
          },
          "metadata": {},
          "execution_count": 27
        }
      ]
    },
    {
      "cell_type": "code",
      "source": [
        "# Backtesting\n",
        "# ==============================================================================\n",
        "steps = 3\n",
        "n_backtesting = steps*4 #Se separan el útltimo año para el backtest\n",
        "metrica, predicciones_backtest = backtesting_forecaster(\n",
        "                                    forecaster         = forecaster,\n",
        "                                    y                  = dataset['y'],\n",
        "                                    exog               = dataset[variables_exog],\n",
        "                                    initial_train_size = len(dataset) - n_backtesting,\n",
        "                                    fixed_train_size   = False,\n",
        "                                    steps              = steps,\n",
        "                                    refit              = True,\n",
        "                                    metric             = 'mean_squared_error',\n",
        "                                    verbose            = True\n",
        "                                 )\n",
        "\n",
        "print(f\"Error de backtest: {metrica}\",'\\n')\n",
        "predicciones_backtest"
      ],
      "metadata": {
        "colab": {
          "base_uri": "https://localhost:8080/",
          "height": 831
        },
        "id": "y_7mtJk21FWA",
        "outputId": "50651d91-3cd8-414e-a12b-47488da3bcc0"
      },
      "execution_count": null,
      "outputs": [
        {
          "output_type": "stream",
          "name": "stdout",
          "text": [
            "Information of backtesting process\n",
            "----------------------------------\n",
            "Number of observations used for initial training: 204\n",
            "Number of observations used for backtesting: 12\n",
            "    Number of folds: 4\n",
            "    Number of steps per fold: 3\n",
            "\n",
            "Data partition in fold: 0\n",
            "    Training:   2002-01-31 00:00:00 -- 2018-12-31 00:00:00  (n=204)\n",
            "    Validation: 2019-01-31 00:00:00 -- 2019-03-31 00:00:00  (n=3)\n",
            "Data partition in fold: 1\n",
            "    Training:   2002-01-31 00:00:00 -- 2019-03-31 00:00:00  (n=207)\n",
            "    Validation: 2019-04-30 00:00:00 -- 2019-06-30 00:00:00  (n=3)\n",
            "Data partition in fold: 2\n",
            "    Training:   2002-01-31 00:00:00 -- 2019-06-30 00:00:00  (n=210)\n",
            "    Validation: 2019-07-31 00:00:00 -- 2019-09-30 00:00:00  (n=3)\n",
            "Data partition in fold: 3\n",
            "    Training:   2002-01-31 00:00:00 -- 2019-09-30 00:00:00  (n=213)\n",
            "    Validation: 2019-10-31 00:00:00 -- 2019-12-31 00:00:00  (n=3)\n",
            "\n",
            "Error de backtest: 0.013360889861306667 \n",
            "\n"
          ]
        },
        {
          "output_type": "execute_result",
          "data": {
            "text/plain": [
              "                pred\n",
              "2019-01-31  0.605688\n",
              "2019-02-28  0.560929\n",
              "2019-03-31  0.551848\n",
              "2019-04-30  0.541493\n",
              "2019-05-31  0.547176\n",
              "2019-06-30  0.571748\n",
              "2019-07-31  0.312272\n",
              "2019-08-31  0.352435\n",
              "2019-09-30  0.352435\n",
              "2019-10-31  0.307091\n",
              "2019-11-30  0.282566\n",
              "2019-12-31  0.294456"
            ],
            "text/html": [
              "\n",
              "  <div id=\"df-44ad210b-ee73-41f0-b627-4f7184085494\">\n",
              "    <div class=\"colab-df-container\">\n",
              "      <div>\n",
              "<style scoped>\n",
              "    .dataframe tbody tr th:only-of-type {\n",
              "        vertical-align: middle;\n",
              "    }\n",
              "\n",
              "    .dataframe tbody tr th {\n",
              "        vertical-align: top;\n",
              "    }\n",
              "\n",
              "    .dataframe thead th {\n",
              "        text-align: right;\n",
              "    }\n",
              "</style>\n",
              "<table border=\"1\" class=\"dataframe\">\n",
              "  <thead>\n",
              "    <tr style=\"text-align: right;\">\n",
              "      <th></th>\n",
              "      <th>pred</th>\n",
              "    </tr>\n",
              "  </thead>\n",
              "  <tbody>\n",
              "    <tr>\n",
              "      <th>2019-01-31</th>\n",
              "      <td>0.605688</td>\n",
              "    </tr>\n",
              "    <tr>\n",
              "      <th>2019-02-28</th>\n",
              "      <td>0.560929</td>\n",
              "    </tr>\n",
              "    <tr>\n",
              "      <th>2019-03-31</th>\n",
              "      <td>0.551848</td>\n",
              "    </tr>\n",
              "    <tr>\n",
              "      <th>2019-04-30</th>\n",
              "      <td>0.541493</td>\n",
              "    </tr>\n",
              "    <tr>\n",
              "      <th>2019-05-31</th>\n",
              "      <td>0.547176</td>\n",
              "    </tr>\n",
              "    <tr>\n",
              "      <th>2019-06-30</th>\n",
              "      <td>0.571748</td>\n",
              "    </tr>\n",
              "    <tr>\n",
              "      <th>2019-07-31</th>\n",
              "      <td>0.312272</td>\n",
              "    </tr>\n",
              "    <tr>\n",
              "      <th>2019-08-31</th>\n",
              "      <td>0.352435</td>\n",
              "    </tr>\n",
              "    <tr>\n",
              "      <th>2019-09-30</th>\n",
              "      <td>0.352435</td>\n",
              "    </tr>\n",
              "    <tr>\n",
              "      <th>2019-10-31</th>\n",
              "      <td>0.307091</td>\n",
              "    </tr>\n",
              "    <tr>\n",
              "      <th>2019-11-30</th>\n",
              "      <td>0.282566</td>\n",
              "    </tr>\n",
              "    <tr>\n",
              "      <th>2019-12-31</th>\n",
              "      <td>0.294456</td>\n",
              "    </tr>\n",
              "  </tbody>\n",
              "</table>\n",
              "</div>\n",
              "      <button class=\"colab-df-convert\" onclick=\"convertToInteractive('df-44ad210b-ee73-41f0-b627-4f7184085494')\"\n",
              "              title=\"Convert this dataframe to an interactive table.\"\n",
              "              style=\"display:none;\">\n",
              "        \n",
              "  <svg xmlns=\"http://www.w3.org/2000/svg\" height=\"24px\"viewBox=\"0 0 24 24\"\n",
              "       width=\"24px\">\n",
              "    <path d=\"M0 0h24v24H0V0z\" fill=\"none\"/>\n",
              "    <path d=\"M18.56 5.44l.94 2.06.94-2.06 2.06-.94-2.06-.94-.94-2.06-.94 2.06-2.06.94zm-11 1L8.5 8.5l.94-2.06 2.06-.94-2.06-.94L8.5 2.5l-.94 2.06-2.06.94zm10 10l.94 2.06.94-2.06 2.06-.94-2.06-.94-.94-2.06-.94 2.06-2.06.94z\"/><path d=\"M17.41 7.96l-1.37-1.37c-.4-.4-.92-.59-1.43-.59-.52 0-1.04.2-1.43.59L10.3 9.45l-7.72 7.72c-.78.78-.78 2.05 0 2.83L4 21.41c.39.39.9.59 1.41.59.51 0 1.02-.2 1.41-.59l7.78-7.78 2.81-2.81c.8-.78.8-2.07 0-2.86zM5.41 20L4 18.59l7.72-7.72 1.47 1.35L5.41 20z\"/>\n",
              "  </svg>\n",
              "      </button>\n",
              "      \n",
              "  <style>\n",
              "    .colab-df-container {\n",
              "      display:flex;\n",
              "      flex-wrap:wrap;\n",
              "      gap: 12px;\n",
              "    }\n",
              "\n",
              "    .colab-df-convert {\n",
              "      background-color: #E8F0FE;\n",
              "      border: none;\n",
              "      border-radius: 50%;\n",
              "      cursor: pointer;\n",
              "      display: none;\n",
              "      fill: #1967D2;\n",
              "      height: 32px;\n",
              "      padding: 0 0 0 0;\n",
              "      width: 32px;\n",
              "    }\n",
              "\n",
              "    .colab-df-convert:hover {\n",
              "      background-color: #E2EBFA;\n",
              "      box-shadow: 0px 1px 2px rgba(60, 64, 67, 0.3), 0px 1px 3px 1px rgba(60, 64, 67, 0.15);\n",
              "      fill: #174EA6;\n",
              "    }\n",
              "\n",
              "    [theme=dark] .colab-df-convert {\n",
              "      background-color: #3B4455;\n",
              "      fill: #D2E3FC;\n",
              "    }\n",
              "\n",
              "    [theme=dark] .colab-df-convert:hover {\n",
              "      background-color: #434B5C;\n",
              "      box-shadow: 0px 1px 3px 1px rgba(0, 0, 0, 0.15);\n",
              "      filter: drop-shadow(0px 1px 2px rgba(0, 0, 0, 0.3));\n",
              "      fill: #FFFFFF;\n",
              "    }\n",
              "  </style>\n",
              "\n",
              "      <script>\n",
              "        const buttonEl =\n",
              "          document.querySelector('#df-44ad210b-ee73-41f0-b627-4f7184085494 button.colab-df-convert');\n",
              "        buttonEl.style.display =\n",
              "          google.colab.kernel.accessAllowed ? 'block' : 'none';\n",
              "\n",
              "        async function convertToInteractive(key) {\n",
              "          const element = document.querySelector('#df-44ad210b-ee73-41f0-b627-4f7184085494');\n",
              "          const dataTable =\n",
              "            await google.colab.kernel.invokeFunction('convertToInteractive',\n",
              "                                                     [key], {});\n",
              "          if (!dataTable) return;\n",
              "\n",
              "          const docLinkHtml = 'Like what you see? Visit the ' +\n",
              "            '<a target=\"_blank\" href=https://colab.research.google.com/notebooks/data_table.ipynb>data table notebook</a>'\n",
              "            + ' to learn more about interactive tables.';\n",
              "          element.innerHTML = '';\n",
              "          dataTable['output_type'] = 'display_data';\n",
              "          await google.colab.output.renderOutput(dataTable, element);\n",
              "          const docLink = document.createElement('div');\n",
              "          docLink.innerHTML = docLinkHtml;\n",
              "          element.appendChild(docLink);\n",
              "        }\n",
              "      </script>\n",
              "    </div>\n",
              "  </div>\n",
              "  "
            ]
          },
          "metadata": {},
          "execution_count": 28
        }
      ]
    },
    {
      "cell_type": "code",
      "source": [
        "# Gráfico del Backtesting\n",
        "# ========================\n",
        "fig, ax = plt.subplots(figsize=(9, 4))\n",
        "dataset_test['y'].plot(ax=ax, label='test')\n",
        "predicciones_backtest.plot(ax=ax, label='predicciones_backtest')\n",
        "ax.legend();"
      ],
      "metadata": {
        "colab": {
          "base_uri": "https://localhost:8080/",
          "height": 290
        },
        "id": "O3i0MFLt1URo",
        "outputId": "5cdad397-4995-46ec-96da-cc093d656096"
      },
      "execution_count": null,
      "outputs": [
        {
          "output_type": "display_data",
          "data": {
            "text/plain": [
              "<Figure size 648x288 with 1 Axes>"
            ],
            "image/png": "[encoded data removed]"
          },
          "metadata": {
            "needs_background": "light"
          }
        }
      ]
    }
  ]
}