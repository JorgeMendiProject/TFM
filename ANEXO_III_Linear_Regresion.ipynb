{
  "nbformat": 4,
  "nbformat_minor": 0,
  "metadata": {
    "colab": {
      "provenance": []
    },
    "kernelspec": {
      "name": "python3",
      "display_name": "Python 3"
    },
    "language_info": {
      "name": "python"
    }
  },
  "cells": [
    {
      "cell_type": "code",
      "execution_count": null,
      "metadata": {
        "id": "Xr6akBLynp9M"
      },
      "outputs": [],
      "source": [
        "!pip install skforecast"
      ]
    },
    {
      "cell_type": "code",
      "source": [
        "import numpy as np\n",
        "import pandas as pd\n",
        "\n",
        "# Gráficos\n",
        "# ==============================================================================\n",
        "import matplotlib.pyplot as plt\n",
        "plt.style.use('fivethirtyeight')\n",
        "plt.rcParams['lines.linewidth'] = 1.5\n",
        "%matplotlib inline\n",
        "\n",
        "\n",
        "# Modelado y Forecasting\n",
        "# ==============================================================================\n",
        "from sklearn.linear_model import LinearRegression\n",
        "from sklearn.linear_model import Lasso\n",
        "from sklearn.ensemble import RandomForestRegressor\n",
        "from sklearn.metrics import mean_squared_error\n",
        "from sklearn.preprocessing import StandardScaler\n",
        "from sklearn.pipeline import make_pipeline\n",
        "\n",
        "from skforecast.ForecasterAutoreg import ForecasterAutoreg\n",
        "from skforecast.ForecasterAutoregCustom import ForecasterAutoregCustom\n",
        "from skforecast.ForecasterAutoregDirect import ForecasterAutoregDirect\n",
        "from skforecast.model_selection import grid_search_forecaster\n",
        "from skforecast.model_selection import backtesting_forecaster\n",
        "from sklearn.model_selection import GridSearchCV\n",
        "from skforecast.utils import save_forecaster\n",
        "from skforecast.utils import load_forecaster"
      ],
      "metadata": {
        "id": "K5pAFuh1n3dE"
      },
      "execution_count": null,
      "outputs": []
    },
    {
      "cell_type": "code",
      "source": [
        "# Configuración warnings\n",
        "# ==============================================================================\n",
        "import warnings\n",
        "# warnings.filterwarnings('ignore')"
      ],
      "metadata": {
        "id": "Gt0rKYL_OKiQ"
      },
      "execution_count": null,
      "outputs": []
    },
    {
      "cell_type": "code",
      "source": [
        "file = ('https://raw.githubusercontent.com/JorgeMendiProject/TFM/main/DatasetInterpolado.csv')\n",
        "#Lectura de datos a partir del archivo .csv             \n",
        "\n",
        "dataset = pd.read_csv(file,delimiter=';')\n",
        "\n",
        "dataset.info()"
      ],
      "metadata": {
        "id": "zP4hjRF1OQa6"
      },
      "execution_count": null,
      "outputs": []
    },
    {
      "cell_type": "code",
      "source": [
        "#Se convierte la variable Fecha a Datetime\n",
        "\n",
        "dataset['Fecha'] = pd.to_datetime(dataset['Fecha'], format='%d/%m/%Y')\n",
        "\n",
        "dataset.info()"
      ],
      "metadata": {
        "id": "XL0U3t-kOpMn"
      },
      "execution_count": null,
      "outputs": []
    },
    {
      "cell_type": "code",
      "source": [
        "# Se adecua al formato que tiene el archivo base\n",
        "\n",
        "dataset = dataset.set_index('Fecha')\n",
        "dataset = dataset.rename(columns={\"Fecha\":'x',\"TasaTPIB\":'y'})  \n",
        "dataset = dataset.asfreq('M')\n",
        "dataset = dataset.sort_index()\n",
        "print(f'Número de filas con missing values: {dataset.isnull().any(axis=1).mean()}', '\\n')\n",
        "\n",
        "# Verificar que un índice temporal está completo\n",
        "# ==============================================================================\n",
        "(dataset.index == pd.date_range(\n",
        "                    start = dataset.index.min(),\n",
        "                    end   = dataset.index.max(),\n",
        "                    freq  = dataset.index.freq)\n",
        ").all()\n"
      ],
      "metadata": {
        "id": "Y3HkuL2UO2lg"
      },
      "execution_count": null,
      "outputs": []
    },
    {
      "cell_type": "code",
      "source": [
        "# Separación datos train-test\n",
        "# ==============================================================================\n",
        "steps = 12\n",
        "dataset_train = dataset[:-steps]\n",
        "dataset_test  = dataset[-steps:]\n",
        "\n",
        "print(f\"Fechas train : {dataset_train.index.min()} --- {dataset_train.index.max()}  (n={len(dataset_train)})\")\n",
        "print(f\"Fechas test  : {dataset_test.index.min()} --- {dataset_test.index.max()}  (n={len(dataset_test)})\", '\\n')\n",
        "\n",
        "fig, ax = plt.subplots(figsize=(9, 4))\n",
        "dataset_train['y'].plot(ax=ax, label='train')\n",
        "dataset_test['y'].plot(ax=ax, label='test')\n",
        "ax.legend();"
      ],
      "metadata": {
        "id": "j42Yho4CO9r5"
      },
      "execution_count": null,
      "outputs": []
    },
    {
      "cell_type": "code",
      "source": [
        "# LINEAR REGRESSOR\n",
        "# Crear y entrenar forecaster\n",
        "# ==============================================================================\n",
        "forecaster = ForecasterAutoreg(\n",
        "                regressor = LinearRegression(),\n",
        "                lags = 24\n",
        "                )\n",
        "forecaster.fit(y=dataset_train['y'])\n",
        "forecaster"
      ],
      "metadata": {
        "id": "ClAsSGhUPDdy"
      },
      "execution_count": null,
      "outputs": []
    },
    {
      "cell_type": "code",
      "source": [
        "# Predicciones\n",
        "# ==============================================================================\n",
        "steps = 12\n",
        "predicciones = forecaster.predict(steps=steps)\n",
        "predicciones"
      ],
      "metadata": {
        "id": "YGAtbzpnPMgB"
      },
      "execution_count": null,
      "outputs": []
    },
    {
      "cell_type": "code",
      "source": [
        "# Gráfico Predicciones\n",
        "# ==============================================================================\n",
        "fig, ax = plt.subplots(figsize=(9, 4))\n",
        "dataset_train['y'].plot(ax=ax, label='train')\n",
        "dataset_test['y'].plot(ax=ax, label='test')\n",
        "predicciones.plot(ax=ax, label='predicciones')\n",
        "ax.legend();"
      ],
      "metadata": {
        "id": "GbD3Mmz1PVUr"
      },
      "execution_count": null,
      "outputs": []
    },
    {
      "cell_type": "code",
      "source": [
        "# Error test Linear Regressor\n",
        "# ==============================================================================\n",
        "error_mse = mean_squared_error(\n",
        "                y_true = dataset_test['y'],\n",
        "                y_pred = predicciones\n",
        "            )\n",
        "\n",
        "print(f\"Error de test (mse): {error_mse}\", '\\n')"
      ],
      "metadata": {
        "id": "gNjwKDWLPXaK"
      },
      "execution_count": null,
      "outputs": []
    },
    {
      "cell_type": "code",
      "source": [
        "# Crear y entrenar forecaster con mejores hiperparámetros\n",
        "# ==============================================================================\n",
        "\n",
        "forecaster = ForecasterAutoreg(\n",
        "                    regressor = LinearRegression(),\n",
        "                    lags = [1, 12, 24]\n",
        "             )\n",
        "\n",
        "forecaster.fit(y=dataset_train['y'])\n"
      ],
      "metadata": {
        "id": "RTLYVgV6Piza"
      },
      "execution_count": null,
      "outputs": []
    },
    {
      "cell_type": "code",
      "source": [
        "# Predicciones\n",
        "# ==============================================================================\n",
        "predicciones = forecaster.predict(steps=steps)\n",
        "print(predicciones)\n",
        "# Gráfico\n",
        "# ==============================================================================\n",
        "fig, ax = plt.subplots(figsize=(9, 4))\n",
        "dataset_train['y'].plot(ax=ax, label='train')\n",
        "dataset_test['y'].plot(ax=ax, label='test')\n",
        "predicciones.plot(ax=ax, label='predicciones')\n",
        "ax.legend();\n",
        "\n",
        "# Error de test\n",
        "# ==============================================================================\n",
        "error_mse = mean_squared_error(\n",
        "                y_true = dataset_test['y'],\n",
        "                y_pred = predicciones\n",
        "            )\n",
        "\n",
        "print(f\"Error de test (mse) {error_mse}\")"
      ],
      "metadata": {
        "id": "44psVhfdQbho"
      },
      "execution_count": null,
      "outputs": []
    },
    {
      "cell_type": "code",
      "source": [
        "# Backtesting\n",
        "# ==============================================================================\n",
        "steps = 3\n",
        "n_backtesting = steps*4 # Se separan para el backtest los últimos 2 años\n",
        "\n",
        "metrica, predicciones_backtest = backtesting_forecaster(\n",
        "                                    forecaster         = forecaster,\n",
        "                                    y                  = dataset['y'],\n",
        "                                    initial_train_size = len(dataset) - n_backtesting,\n",
        "                                    fixed_train_size   = False,\n",
        "                                    steps              = steps,\n",
        "                                    refit              = True,\n",
        "                                    metric             = 'mean_squared_error',\n",
        "                                    verbose            = True\n",
        "                                 )\n",
        "\n",
        "print(f\"Error de backtest: {metrica}\",'\\n')\n"
      ],
      "metadata": {
        "id": "xj1H2fkOQi2z"
      },
      "execution_count": null,
      "outputs": []
    },
    {
      "cell_type": "code",
      "source": [
        "# Gráfico del Backtesting\n",
        "# ========================\n",
        "fig, ax = plt.subplots(figsize=(9, 4))\n",
        "dataset_test['y'].plot(ax=ax, label='test')\n",
        "predicciones_backtest.plot(ax=ax, label='predicciones_Backtest')\n",
        "ax.legend();\n"
      ],
      "metadata": {
        "id": "22XTLuP8RTbV"
      },
      "execution_count": null,
      "outputs": []
    },
    {
      "cell_type": "code",
      "source": [
        "# Importancia predictores\n",
        "# ==============================================================================\n",
        "impotancia = forecaster.get_feature_importance()\n",
        "impotancia"
      ],
      "metadata": {
        "id": "Q72MsIqyR5zV"
      },
      "execution_count": null,
      "outputs": []
    },
    {
      "cell_type": "code",
      "source": [
        "variables_exog = ['EuriborM', 'ParoT', 'SalarioMedio', 'IPC','CTotalConsumo']\n",
        "fin_train = '31/12/2018'\n",
        "forecaster.fit(\n",
        "    y= dataset.loc[:fin_train:,'y'],\n",
        "    exog= dataset.loc[:fin_train:, variables_exog]\n",
        "    ) # Entrenamiento con conjuntos de train\n",
        "forecaster"
      ],
      "metadata": {
        "id": "saWr07-Ch55p"
      },
      "execution_count": null,
      "outputs": []
    },
    {
      "cell_type": "code",
      "source": [
        "exog_siguientes_12meses = dataset_test[variables_exog][:12]\n",
        "\n",
        "predicciones = forecaster.predict(steps=12, exog=exog_siguientes_12meses)\n",
        "predicciones"
      ],
      "metadata": {
        "id": "EEYszefMiA5L"
      },
      "execution_count": null,
      "outputs": []
    },
    {
      "cell_type": "code",
      "source": [
        "# Backtesting\n",
        "# ==============================================================================\n",
        "steps = 3\n",
        "n_backtesting = steps*4 #Se separan el útltimo año para el backtest\n",
        "metrica, predicciones_backtest = backtesting_forecaster(\n",
        "                                    forecaster         = forecaster,\n",
        "                                    y                  = dataset['y'],\n",
        "                                    exog               = dataset[variables_exog],\n",
        "                                    initial_train_size = len(dataset) - n_backtesting,\n",
        "                                    fixed_train_size   = False,\n",
        "                                    steps              = steps,\n",
        "                                    refit              = True,\n",
        "                                    metric             = 'mean_squared_error',\n",
        "                                    verbose            = True\n",
        "                                 )\n",
        "\n",
        "print(f\"Error de backtest: {metrica}\",'\\n')\n",
        "predicciones_backtest"
      ],
      "metadata": {
        "id": "4opOMPCYiJF9"
      },
      "execution_count": null,
      "outputs": []
    },
    {
      "cell_type": "code",
      "source": [
        "# Gráfico del Backtesting\n",
        "# ========================\n",
        "fig, ax = plt.subplots(figsize=(9, 4))\n",
        "dataset_test['y'].plot(ax=ax, label='test')\n",
        "predicciones_backtest.plot(ax=ax, label='predicciones_backtest')\n",
        "ax.legend();"
      ],
      "metadata": {
        "id": "SzeRkW0biMdV"
      },
      "execution_count": null,
      "outputs": []
    }
  ]
}