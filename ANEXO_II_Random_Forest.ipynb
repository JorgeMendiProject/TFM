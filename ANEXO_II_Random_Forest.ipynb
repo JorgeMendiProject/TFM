{
  "nbformat": 4,
  "nbformat_minor": 0,
  "metadata": {
    "colab": {
      "provenance": []
    },
    "kernelspec": {
      "name": "python3",
      "display_name": "Python 3"
    },
    "language_info": {
      "name": "python"
    }
  },
  "cells": [
    {
      "cell_type": "code",
      "execution_count": null,
      "metadata": {
        "colab": {
          "base_uri": "https://localhost:8080/"
        },
        "id": "Xr6akBLynp9M",
        "outputId": "9df296cf-1ece-4a97-8cc5-837a22f695c8"
      },
      "outputs": [
        {
          "output_type": "stream",
          "name": "stdout",
          "text": [
            "Looking in indexes: https://pypi.org/simple, https://us-python.pkg.dev/colab-wheels/public/simple/\n",
            "Requirement already satisfied: skforecast in /usr/local/lib/python3.8/dist-packages (0.6.0)\n",
            "Requirement already satisfied: numpy<1.24,>=1.20 in /usr/local/lib/python3.8/dist-packages (from skforecast) (1.21.6)\n",
            "Requirement already satisfied: scikit-learn<1.2,>=1.0 in /usr/local/lib/python3.8/dist-packages (from skforecast) (1.0.2)\n",
            "Requirement already satisfied: optuna<3.1,>=2.10.0 in /usr/local/lib/python3.8/dist-packages (from skforecast) (3.0.5)\n",
            "Requirement already satisfied: tqdm<4.65,>=4.57.0 in /usr/local/lib/python3.8/dist-packages (from skforecast) (4.64.1)\n",
            "Requirement already satisfied: joblib<1.3.0,>=1.1.0 in /usr/local/lib/python3.8/dist-packages (from skforecast) (1.2.0)\n",
            "Requirement already satisfied: pandas<1.6,>=1.2 in /usr/local/lib/python3.8/dist-packages (from skforecast) (1.3.5)\n",
            "Requirement already satisfied: scikit-optimize==0.9.0 in /usr/local/lib/python3.8/dist-packages (from skforecast) (0.9.0)\n",
            "Requirement already satisfied: pyaml>=16.9 in /usr/local/lib/python3.8/dist-packages (from scikit-optimize==0.9.0->skforecast) (21.10.1)\n",
            "Requirement already satisfied: scipy>=0.19.1 in /usr/local/lib/python3.8/dist-packages (from scikit-optimize==0.9.0->skforecast) (1.7.3)\n",
            "Requirement already satisfied: PyYAML in /usr/local/lib/python3.8/dist-packages (from optuna<3.1,>=2.10.0->skforecast) (6.0)\n",
            "Requirement already satisfied: packaging>=20.0 in /usr/local/lib/python3.8/dist-packages (from optuna<3.1,>=2.10.0->skforecast) (21.3)\n",
            "Requirement already satisfied: cliff in /usr/local/lib/python3.8/dist-packages (from optuna<3.1,>=2.10.0->skforecast) (4.1.0)\n",
            "Requirement already satisfied: alembic>=1.5.0 in /usr/local/lib/python3.8/dist-packages (from optuna<3.1,>=2.10.0->skforecast) (1.9.2)\n",
            "Requirement already satisfied: colorlog in /usr/local/lib/python3.8/dist-packages (from optuna<3.1,>=2.10.0->skforecast) (6.7.0)\n",
            "Requirement already satisfied: cmaes>=0.8.2 in /usr/local/lib/python3.8/dist-packages (from optuna<3.1,>=2.10.0->skforecast) (0.9.1)\n",
            "Requirement already satisfied: sqlalchemy>=1.3.0 in /usr/local/lib/python3.8/dist-packages (from optuna<3.1,>=2.10.0->skforecast) (1.4.46)\n",
            "Requirement already satisfied: importlib-metadata<5.0.0 in /usr/local/lib/python3.8/dist-packages (from optuna<3.1,>=2.10.0->skforecast) (4.13.0)\n",
            "Requirement already satisfied: python-dateutil>=2.7.3 in /usr/local/lib/python3.8/dist-packages (from pandas<1.6,>=1.2->skforecast) (2.8.2)\n",
            "Requirement already satisfied: pytz>=2017.3 in /usr/local/lib/python3.8/dist-packages (from pandas<1.6,>=1.2->skforecast) (2022.7)\n",
            "Requirement already satisfied: threadpoolctl>=2.0.0 in /usr/local/lib/python3.8/dist-packages (from scikit-learn<1.2,>=1.0->skforecast) (3.1.0)\n",
            "Requirement already satisfied: importlib-resources in /usr/local/lib/python3.8/dist-packages (from alembic>=1.5.0->optuna<3.1,>=2.10.0->skforecast) (5.10.2)\n",
            "Requirement already satisfied: Mako in /usr/local/lib/python3.8/dist-packages (from alembic>=1.5.0->optuna<3.1,>=2.10.0->skforecast) (1.2.4)\n",
            "Requirement already satisfied: zipp>=0.5 in /usr/local/lib/python3.8/dist-packages (from importlib-metadata<5.0.0->optuna<3.1,>=2.10.0->skforecast) (3.11.0)\n",
            "Requirement already satisfied: pyparsing!=3.0.5,>=2.0.2 in /usr/local/lib/python3.8/dist-packages (from packaging>=20.0->optuna<3.1,>=2.10.0->skforecast) (3.0.9)\n",
            "Requirement already satisfied: six>=1.5 in /usr/local/lib/python3.8/dist-packages (from python-dateutil>=2.7.3->pandas<1.6,>=1.2->skforecast) (1.15.0)\n",
            "Requirement already satisfied: greenlet!=0.4.17 in /usr/local/lib/python3.8/dist-packages (from sqlalchemy>=1.3.0->optuna<3.1,>=2.10.0->skforecast) (2.0.1)\n",
            "Requirement already satisfied: autopage>=0.4.0 in /usr/local/lib/python3.8/dist-packages (from cliff->optuna<3.1,>=2.10.0->skforecast) (0.5.1)\n",
            "Requirement already satisfied: stevedore>=2.0.1 in /usr/local/lib/python3.8/dist-packages (from cliff->optuna<3.1,>=2.10.0->skforecast) (4.1.1)\n",
            "Requirement already satisfied: cmd2>=1.0.0 in /usr/local/lib/python3.8/dist-packages (from cliff->optuna<3.1,>=2.10.0->skforecast) (2.4.3)\n",
            "Requirement already satisfied: PrettyTable>=0.7.2 in /usr/local/lib/python3.8/dist-packages (from cliff->optuna<3.1,>=2.10.0->skforecast) (3.6.0)\n",
            "Requirement already satisfied: pyperclip>=1.6 in /usr/local/lib/python3.8/dist-packages (from cmd2>=1.0.0->cliff->optuna<3.1,>=2.10.0->skforecast) (1.8.2)\n",
            "Requirement already satisfied: wcwidth>=0.1.7 in /usr/local/lib/python3.8/dist-packages (from cmd2>=1.0.0->cliff->optuna<3.1,>=2.10.0->skforecast) (0.2.5)\n",
            "Requirement already satisfied: attrs>=16.3.0 in /usr/local/lib/python3.8/dist-packages (from cmd2>=1.0.0->cliff->optuna<3.1,>=2.10.0->skforecast) (22.2.0)\n",
            "Requirement already satisfied: pbr!=2.1.0,>=2.0.0 in /usr/local/lib/python3.8/dist-packages (from stevedore>=2.0.1->cliff->optuna<3.1,>=2.10.0->skforecast) (5.11.1)\n",
            "Requirement already satisfied: MarkupSafe>=0.9.2 in /usr/local/lib/python3.8/dist-packages (from Mako->alembic>=1.5.0->optuna<3.1,>=2.10.0->skforecast) (2.0.1)\n"
          ]
        }
      ],
      "source": [
        "!pip install skforecast"
      ]
    },
    {
      "cell_type": "code",
      "source": [
        "import numpy as np\n",
        "import pandas as pd\n",
        "\n",
        "# Gráficos\n",
        "# ==============================================================================\n",
        "import matplotlib.pyplot as plt\n",
        "plt.style.use('fivethirtyeight')\n",
        "plt.rcParams['lines.linewidth'] = 1.5\n",
        "%matplotlib inline\n",
        "\n",
        "\n",
        "# Modelado y Forecasting\n",
        "# ==============================================================================\n",
        "from sklearn.linear_model import LinearRegression\n",
        "from sklearn.linear_model import Lasso\n",
        "from sklearn.ensemble import RandomForestRegressor\n",
        "from sklearn.metrics import mean_squared_error\n",
        "from sklearn.preprocessing import StandardScaler\n",
        "from sklearn.pipeline import make_pipeline\n",
        "\n",
        "from skforecast.ForecasterAutoreg import ForecasterAutoreg\n",
        "from skforecast.ForecasterAutoregCustom import ForecasterAutoregCustom\n",
        "from skforecast.ForecasterAutoregDirect import ForecasterAutoregDirect\n",
        "from skforecast.model_selection import grid_search_forecaster\n",
        "from skforecast.model_selection import backtesting_forecaster\n",
        "from skforecast.utils import save_forecaster\n",
        "from skforecast.utils import load_forecaster"
      ],
      "metadata": {
        "id": "K5pAFuh1n3dE"
      },
      "execution_count": null,
      "outputs": []
    },
    {
      "cell_type": "code",
      "source": [
        "# Configuración warnings\n",
        "# ==============================================================================\n",
        "import warnings\n",
        "# warnings.filterwarnings('ignore')"
      ],
      "metadata": {
        "id": "Gt0rKYL_OKiQ"
      },
      "execution_count": null,
      "outputs": []
    },
    {
      "cell_type": "code",
      "source": [
        "file = ('https://raw.githubusercontent.com/JorgeMendiProject/TFM/main/DatasetInterpolado.csv')\n",
        "#Lectura de datos a partir del archivo .csv             \n",
        "\n",
        "dataset = pd.read_csv(file,delimiter=';')\n",
        "\n",
        "dataset.info()"
      ],
      "metadata": {
        "colab": {
          "base_uri": "https://localhost:8080/"
        },
        "id": "zP4hjRF1OQa6",
        "outputId": "a5b80942-69fe-43ac-a1d6-5737b4bc8a57"
      },
      "execution_count": null,
      "outputs": [
        {
          "output_type": "stream",
          "name": "stdout",
          "text": [
            "<class 'pandas.core.frame.DataFrame'>\n",
            "RangeIndex: 216 entries, 0 to 215\n",
            "Data columns (total 7 columns):\n",
            " #   Column         Non-Null Count  Dtype  \n",
            "---  ------         --------------  -----  \n",
            " 0   Fecha          216 non-null    object \n",
            " 1   TasaTPIB       216 non-null    float64\n",
            " 2   EuriborM       216 non-null    float64\n",
            " 3   ParoT          216 non-null    float64\n",
            " 4   SalarioMedio   216 non-null    int64  \n",
            " 5   IPC            216 non-null    float64\n",
            " 6   CTotalConsumo  216 non-null    int64  \n",
            "dtypes: float64(4), int64(2), object(1)\n",
            "memory usage: 11.9+ KB\n"
          ]
        }
      ]
    },
    {
      "cell_type": "code",
      "source": [
        "#Se convierte la variable Fecha a Datetime\n",
        "\n",
        "dataset['Fecha'] = pd.to_datetime(dataset['Fecha'], format='%d/%m/%Y')\n",
        "\n",
        "dataset.info()"
      ],
      "metadata": {
        "colab": {
          "base_uri": "https://localhost:8080/"
        },
        "id": "XL0U3t-kOpMn",
        "outputId": "b8bf177d-14bf-4c76-a88f-2f16c45a0653"
      },
      "execution_count": null,
      "outputs": [
        {
          "output_type": "stream",
          "name": "stdout",
          "text": [
            "<class 'pandas.core.frame.DataFrame'>\n",
            "RangeIndex: 216 entries, 0 to 215\n",
            "Data columns (total 7 columns):\n",
            " #   Column         Non-Null Count  Dtype         \n",
            "---  ------         --------------  -----         \n",
            " 0   Fecha          216 non-null    datetime64[ns]\n",
            " 1   TasaTPIB       216 non-null    float64       \n",
            " 2   EuriborM       216 non-null    float64       \n",
            " 3   ParoT          216 non-null    float64       \n",
            " 4   SalarioMedio   216 non-null    int64         \n",
            " 5   IPC            216 non-null    float64       \n",
            " 6   CTotalConsumo  216 non-null    int64         \n",
            "dtypes: datetime64[ns](1), float64(4), int64(2)\n",
            "memory usage: 11.9 KB\n"
          ]
        }
      ]
    },
    {
      "cell_type": "code",
      "source": [
        "#Se adecua al formato que tiene el archivo base, es decir, si hay meses se pone meses para que no queden Nan\n",
        "\n",
        "dataset = dataset.set_index('Fecha')\n",
        "dataset = dataset.rename(columns={\"Fecha\":'x',\"TasaTPIB\":'y'})  \n",
        "dataset = dataset.asfreq('M')\n",
        "dataset = dataset.sort_index()\n",
        "print(f'Número de filas con missing values: {dataset.isnull().any(axis=1).mean()}', '\\n')\n",
        "\n",
        "# Verificar que un índice temporal está completo\n",
        "# ==============================================================================\n",
        "(dataset.index == pd.date_range(\n",
        "                    start = dataset.index.min(),\n",
        "                    end   = dataset.index.max(),\n",
        "                    freq  = dataset.index.freq)\n",
        ").all()\n"
      ],
      "metadata": {
        "colab": {
          "base_uri": "https://localhost:8080/"
        },
        "id": "Y3HkuL2UO2lg",
        "outputId": "e5bab4f8-7bf2-46e2-d17a-2c8e9088d755"
      },
      "execution_count": null,
      "outputs": [
        {
          "output_type": "stream",
          "name": "stdout",
          "text": [
            "Número de filas con missing values: 0.0 \n",
            "\n"
          ]
        },
        {
          "output_type": "execute_result",
          "data": {
            "text/plain": [
              "True"
            ]
          },
          "metadata": {},
          "execution_count": 30
        }
      ]
    },
    {
      "cell_type": "code",
      "source": [
        "# Separación datos train-test\n",
        "# ==============================================================================\n",
        "steps = 12\n",
        "dataset_train = dataset[:-steps]\n",
        "dataset_test  = dataset[-steps:]\n",
        "\n",
        "print(f\"Fechas train : {dataset_train.index.min()} --- {dataset_train.index.max()}  (n={len(dataset_train)})\")\n",
        "print(f\"Fechas test  : {dataset_test.index.min()} --- {dataset_test.index.max()}  (n={len(dataset_test)})\", '\\n')\n",
        "\n",
        "fig, ax = plt.subplots(figsize=(9, 4))\n",
        "dataset_train['y'].plot(ax=ax, label='train')\n",
        "dataset_test['y'].plot(ax=ax, label='test')\n",
        "ax.legend();"
      ],
      "metadata": {
        "colab": {
          "base_uri": "https://localhost:8080/"
        },
        "id": "j42Yho4CO9r5",
        "outputId": "ceeb6b39-bbe8-4e3f-e5be-a7b200a0176c"
      },
      "execution_count": null,
      "outputs": [
        {
          "output_type": "stream",
          "name": "stdout",
          "text": [
            "Fechas train : 2002-01-31 00:00:00 --- 2018-12-31 00:00:00  (n=204)\n",
            "Fechas test  : 2019-01-31 00:00:00 --- 2019-12-31 00:00:00  (n=12) \n",
            "\n"
          ]
        },
        {
          "output_type": "display_data",
          "data": {
            "text/plain": [
              "<Figure size 648x288 with 1 Axes>"
            ],
            "image/png": "[encoded data removed]"
          },
          "metadata": {
            "needs_background": "light"
          }
        }
      ]
    },
    {
      "cell_type": "code",
      "source": [
        "# RANDOM FOREST\n",
        "# Crear y entrenar forecaster\n",
        "# ==============================================================================\n",
        "forecaster = ForecasterAutoreg(\n",
        "                regressor = RandomForestRegressor(random_state=123),\n",
        "                lags = 24\n",
        "                )\n",
        "forecaster.fit(y=dataset_train['y'])\n",
        "forecaster"
      ],
      "metadata": {
        "colab": {
          "base_uri": "https://localhost:8080/"
        },
        "id": "ClAsSGhUPDdy",
        "outputId": "423cc8cf-5622-451b-ba93-5a674aa0a29d"
      },
      "execution_count": null,
      "outputs": [
        {
          "output_type": "execute_result",
          "data": {
            "text/plain": [
              "================= \n",
              "ForecasterAutoreg \n",
              "================= \n",
              "Regressor: RandomForestRegressor(random_state=123) \n",
              "Lags: [ 1  2  3  4  5  6  7  8  9 10 11 12 13 14 15 16 17 18 19 20 21 22 23 24] \n",
              "Transformer for y: None \n",
              "Transformer for exog: None \n",
              "Window size: 24 \n",
              "Weight function included: False \n",
              "Exogenous included: False \n",
              "Type of exogenous variable: None \n",
              "Exogenous variables names: None \n",
              "Training range: [Timestamp('2002-01-31 00:00:00'), Timestamp('2018-12-31 00:00:00')] \n",
              "Training index type: DatetimeIndex \n",
              "Training index frequency: M \n",
              "Regressor parameters: {'bootstrap': True, 'ccp_alpha': 0.0, 'criterion': 'squared_error', 'max_depth': None, 'max_features': 'auto', 'max_leaf_nodes': None, 'max_samples': None, 'min_impurity_decrease': 0.0, 'min_samples_leaf': 1, 'min_samples_split': 2, 'min_weight_fraction_leaf': 0.0, 'n_estimators': 100, 'n_jobs': None, 'oob_score': False, 'random_state': 123, 'verbose': 0, 'warm_start': False} \n",
              "Creation date: 2023-01-29 09:50:02 \n",
              "Last fit date: 2023-01-29 09:50:03 \n",
              "Skforecast version: 0.6.0 \n",
              "Python version: 3.8.10 "
            ]
          },
          "metadata": {},
          "execution_count": 32
        }
      ]
    },
    {
      "cell_type": "code",
      "source": [
        "# Predicciones\n",
        "# ==============================================================================\n",
        "steps = 12\n",
        "predicciones = forecaster.predict(steps=steps)\n",
        "predicciones"
      ],
      "metadata": {
        "colab": {
          "base_uri": "https://localhost:8080/"
        },
        "id": "YGAtbzpnPMgB",
        "outputId": "684f83a1-2937-43d1-8992-777e415a4a55"
      },
      "execution_count": null,
      "outputs": [
        {
          "output_type": "execute_result",
          "data": {
            "text/plain": [
              "2019-01-31    0.752667\n",
              "2019-02-28    0.768767\n",
              "2019-03-31    0.779204\n",
              "2019-04-30    0.800628\n",
              "2019-05-31    0.812563\n",
              "2019-06-30    0.816824\n",
              "2019-07-31    0.904401\n",
              "2019-08-31    0.968680\n",
              "2019-09-30    0.971324\n",
              "2019-10-31    0.963075\n",
              "2019-11-30    0.952752\n",
              "2019-12-31    0.946143\n",
              "Freq: M, Name: pred, dtype: float64"
            ]
          },
          "metadata": {},
          "execution_count": 33
        }
      ]
    },
    {
      "cell_type": "code",
      "source": [
        "# Gráfico Predicciones\n",
        "# ==============================================================================\n",
        "fig, ax = plt.subplots(figsize=(9, 4))\n",
        "dataset_train['y'].plot(ax=ax, label='train')\n",
        "dataset_test['y'].plot(ax=ax, label='test')\n",
        "predicciones.plot(ax=ax, label='predicciones')\n",
        "ax.legend();"
      ],
      "metadata": {
        "colab": {
          "base_uri": "https://localhost:8080/"
        },
        "id": "GbD3Mmz1PVUr",
        "outputId": "bf35d1d4-5f8c-4ef0-af7e-8e890a726740"
      },
      "execution_count": null,
      "outputs": [
        {
          "output_type": "display_data",
          "data": {
            "text/plain": [
              "<Figure size 648x288 with 1 Axes>"
            ],
            "image/png": "[encoded data removed]"
          },
          "metadata": {
            "needs_background": "light"
          }
        }
      ]
    },
    {
      "cell_type": "code",
      "source": [
        "# Error test Random Forest\n",
        "# ==============================================================================\n",
        "error_mse = mean_squared_error(\n",
        "                y_true = dataset_test['y'],\n",
        "                y_pred = predicciones\n",
        "            )\n",
        "\n",
        "print(f\"Error de test (mse): {error_mse}\", '\\n')"
      ],
      "metadata": {
        "colab": {
          "base_uri": "https://localhost:8080/"
        },
        "id": "gNjwKDWLPXaK",
        "outputId": "df2a90b2-dc4e-43c0-8d93-c340fcb40197"
      },
      "execution_count": null,
      "outputs": [
        {
          "output_type": "stream",
          "name": "stdout",
          "text": [
            "Error de test (mse): 0.3026997718731664 \n",
            "\n"
          ]
        }
      ]
    },
    {
      "cell_type": "code",
      "source": [
        "# Grid search de hiperparámetros\n",
        "# ==============================================================================\n",
        "steps = 12\n",
        "forecaster = ForecasterAutoreg(\n",
        "                regressor = RandomForestRegressor(random_state=123),\n",
        "                lags      = 24 # Este valor será remplazado en el grid search\n",
        "             )\n",
        "\n",
        "# Lags utilizados como predictores\n",
        "lags_grid = [1, 48]\n",
        "\n",
        "# Hiperparámetros del regresor\n",
        "param_grid = {'n_estimators': [100, 500],\n",
        "              'max_depth': [1, 3, 5, 10]}\n",
        "\n",
        "resultados_grid = grid_search_forecaster(\n",
        "                        forecaster         = forecaster,\n",
        "                        y                  = dataset_train['y'],\n",
        "                        param_grid         = param_grid,\n",
        "                        lags_grid          = lags_grid,\n",
        "                        steps              = steps,\n",
        "                        refit              = True,\n",
        "                        metric             = 'mean_squared_error',\n",
        "                        initial_train_size = int(len(dataset_train)*0.5),\n",
        "                        fixed_train_size   = False,\n",
        "                        return_best        = True,\n",
        "                        verbose            = False\n",
        "                  )\n",
        "\n",
        "# Resultados Grid Search\n",
        "# ==============================================================================\n",
        "resultados_grid\n",
        "print(\"los mejores resultados se dan: Usando una ventana temporal de 1 lag\", '\\n',\n",
        "\"y un Random Forest de:(3 de profundidad y 100 estimadores)\", '\\n' \"esto se ve en variable explorer: resultados grid\")"
      ],
      "metadata": {
        "colab": {
          "base_uri": "https://localhost:8080/"
        },
        "id": "RTLYVgV6Piza",
        "outputId": "9664b3ca-1782-40b7-c943-544eff730591"
      },
      "execution_count": null,
      "outputs": [
        {
          "output_type": "stream",
          "name": "stdout",
          "text": [
            "Number of models compared: 16.\n"
          ]
        },
        {
          "output_type": "stream",
          "name": "stderr",
          "text": [
            "loop lags_grid:   0%|                                               | 0/2 [00:00<?, ?it/s]\n",
            "loop param_grid:   0%|                                              | 0/8 [00:00<?, ?it/s]\u001b[A\n",
            "loop param_grid:  12%|████▊                                 | 1/8 [00:02<00:15,  2.24s/it]\u001b[A\n",
            "loop param_grid:  25%|█████████▌                            | 2/8 [00:21<01:14, 12.38s/it]\u001b[A\n",
            "loop param_grid:  38%|██████████████▎                       | 3/8 [00:23<00:38,  7.60s/it]\u001b[A\n",
            "loop param_grid:  50%|███████████████████                   | 4/8 [00:32<00:32,  8.11s/it]\u001b[A\n",
            "loop param_grid:  62%|███████████████████████▊              | 5/8 [00:34<00:17,  5.89s/it]\u001b[A\n",
            "loop param_grid:  75%|████████████████████████████▌         | 6/8 [00:43<00:13,  7.00s/it]\u001b[A\n",
            "loop param_grid:  88%|█████████████████████████████████▎    | 7/8 [00:45<00:05,  5.35s/it]\u001b[A\n",
            "loop param_grid: 100%|██████████████████████████████████████| 8/8 [00:54<00:00,  6.51s/it]\u001b[A\n",
            "loop lags_grid:  50%|███████████████████▌                   | 1/2 [00:54<00:54, 54.61s/it]\n",
            "loop param_grid:   0%|                                              | 0/8 [00:00<?, ?it/s]\u001b[A\n",
            "loop param_grid:  12%|████▊                                 | 1/8 [00:02<00:14,  2.03s/it]\u001b[A\n",
            "loop param_grid:  25%|█████████▌                            | 2/8 [00:11<00:38,  6.40s/it]\u001b[A\n",
            "loop param_grid:  38%|██████████████▎                       | 3/8 [00:13<00:22,  4.53s/it]\u001b[A\n",
            "loop param_grid:  50%|███████████████████                   | 4/8 [00:24<00:28,  7.08s/it]\u001b[A\n",
            "loop param_grid:  62%|███████████████████████▊              | 5/8 [00:27<00:16,  5.44s/it]\u001b[A\n",
            "loop param_grid:  75%|████████████████████████████▌         | 6/8 [00:39<00:15,  7.81s/it]\u001b[A\n",
            "loop param_grid:  88%|█████████████████████████████████▎    | 7/8 [00:42<00:06,  6.15s/it]\u001b[A\n",
            "loop param_grid: 100%|██████████████████████████████████████| 8/8 [00:55<00:00,  8.39s/it]\u001b[A\n",
            "loop lags_grid: 100%|███████████████████████████████████████| 2/2 [01:50<00:00, 55.15s/it]"
          ]
        },
        {
          "output_type": "stream",
          "name": "stdout",
          "text": [
            "`Forecaster` refitted using the best-found lags and parameters, and the whole data set: \n",
            "  Lags: [1] \n",
            "  Parameters: {'max_depth': 3, 'n_estimators': 100}\n",
            "  Backtesting metric: 0.12250021701253355\n",
            "\n",
            "los mejores resultados se dan: Usando una ventana temporal de 1 lag \n",
            " y un Random Forest de:(3 de profundidad y 100 estimadores) \n",
            "esto se ve en variable explorer: resultados grid\n"
          ]
        },
        {
          "output_type": "stream",
          "name": "stderr",
          "text": [
            "\n"
          ]
        }
      ]
    },
    {
      "cell_type": "code",
      "source": [
        "# Crear y entrenar forecaster con mejores hiperparámetros\n",
        "# ==============================================================================\n",
        "regressor = RandomForestRegressor(max_depth=3, n_estimators=100, random_state=123)\n",
        "forecaster = ForecasterAutoreg(\n",
        "                regressor = regressor,\n",
        "                lags      = 1\n",
        "             )\n",
        "\n",
        "forecaster.fit(y=dataset_train['y'])"
      ],
      "metadata": {
        "id": "4hziub-7QSVo"
      },
      "execution_count": null,
      "outputs": []
    },
    {
      "cell_type": "code",
      "source": [
        "# Predicciones\n",
        "# ==============================================================================\n",
        "predicciones = forecaster.predict(steps=steps)\n",
        "print(predicciones)\n",
        "\n",
        "# Gráfico\n",
        "# ==============================================================================\n",
        "fig, ax = plt.subplots(figsize=(9, 4))\n",
        "dataset_train['y'].plot(ax=ax, label='train')\n",
        "dataset_test['y'].plot(ax=ax, label='test')\n",
        "predicciones.plot(ax=ax, label='predicciones')\n",
        "ax.legend();\n",
        "\n",
        "\n",
        "# Error de test\n",
        "# ==============================================================================\n",
        "error_mse = mean_squared_error(\n",
        "                y_true = dataset_test['y'],\n",
        "                y_pred = predicciones\n",
        "            )\n",
        "\n",
        "print(f\"Error de test (mse) {error_mse}\")"
      ],
      "metadata": {
        "colab": {
          "base_uri": "https://localhost:8080/"
        },
        "id": "44psVhfdQbho",
        "outputId": "390c6f68-c437-418b-c073-3d6b3cf7786e"
      },
      "execution_count": null,
      "outputs": [
        {
          "output_type": "stream",
          "name": "stdout",
          "text": [
            "2019-01-31    0.634753\n",
            "2019-02-28    0.615426\n",
            "2019-03-31    0.615426\n",
            "2019-04-30    0.615426\n",
            "2019-05-31    0.615426\n",
            "2019-06-30    0.615426\n",
            "2019-07-31    0.615426\n",
            "2019-08-31    0.615426\n",
            "2019-09-30    0.615426\n",
            "2019-10-31    0.615426\n",
            "2019-11-30    0.615426\n",
            "2019-12-31    0.615426\n",
            "Freq: M, Name: pred, dtype: float64\n",
            "Error de test (mse) 0.08351511493915394\n"
          ]
        },
        {
          "output_type": "display_data",
          "data": {
            "text/plain": [
              "<Figure size 648x288 with 1 Axes>"
            ],
            "image/png": "[encoded data removed]"
          },
          "metadata": {
            "needs_background": "light"
          }
        }
      ]
    },
    {
      "cell_type": "code",
      "source": [
        "# Backtesting\n",
        "# ==============================================================================\n",
        "steps = 3\n",
        "n_backtesting = steps*4 #Se separan el útltimo año para el backtest\n",
        "metrica, predicciones_backtest = backtesting_forecaster(\n",
        "                                    forecaster         = forecaster,\n",
        "                                    y                  = dataset['y'],\n",
        "                                    initial_train_size = len(dataset) - n_backtesting,\n",
        "                                    fixed_train_size   = False,\n",
        "                                    steps              = steps,\n",
        "                                    refit              = True,\n",
        "                                    metric             = 'mean_squared_error',\n",
        "                                    verbose            = True\n",
        "                                 )\n",
        "\n",
        "print(f\"Error de backtest: {metrica}\",'\\n')\n",
        "predicciones_backtest\n"
      ],
      "metadata": {
        "colab": {
          "base_uri": "https://localhost:8080/"
        },
        "id": "xj1H2fkOQi2z",
        "outputId": "7899535f-091f-48b9-cb2e-c7ecef185bdb"
      },
      "execution_count": null,
      "outputs": [
        {
          "output_type": "stream",
          "name": "stdout",
          "text": [
            "Information of backtesting process\n",
            "----------------------------------\n",
            "Number of observations used for initial training: 204\n",
            "Number of observations used for backtesting: 12\n",
            "    Number of folds: 4\n",
            "    Number of steps per fold: 3\n",
            "\n",
            "Data partition in fold: 0\n",
            "    Training:   2002-01-31 00:00:00 -- 2018-12-31 00:00:00  (n=204)\n",
            "    Validation: 2019-01-31 00:00:00 -- 2019-03-31 00:00:00  (n=3)\n",
            "Data partition in fold: 1\n",
            "    Training:   2002-01-31 00:00:00 -- 2019-03-31 00:00:00  (n=207)\n",
            "    Validation: 2019-04-30 00:00:00 -- 2019-06-30 00:00:00  (n=3)\n",
            "Data partition in fold: 2\n",
            "    Training:   2002-01-31 00:00:00 -- 2019-06-30 00:00:00  (n=210)\n",
            "    Validation: 2019-07-31 00:00:00 -- 2019-09-30 00:00:00  (n=3)\n",
            "Data partition in fold: 3\n",
            "    Training:   2002-01-31 00:00:00 -- 2019-09-30 00:00:00  (n=213)\n",
            "    Validation: 2019-10-31 00:00:00 -- 2019-12-31 00:00:00  (n=3)\n",
            "\n",
            "Error de backtest: 0.02033446421513326 \n",
            "\n"
          ]
        },
        {
          "output_type": "execute_result",
          "data": {
            "text/plain": [
              "                pred\n",
              "2019-01-31  0.634753\n",
              "2019-02-28  0.615426\n",
              "2019-03-31  0.615426\n",
              "2019-04-30  0.608096\n",
              "2019-05-31  0.608096\n",
              "2019-06-30  0.608096\n",
              "2019-07-31  0.347249\n",
              "2019-08-31  0.347249\n",
              "2019-09-30  0.347249\n",
              "2019-10-31  0.315718\n",
              "2019-11-30  0.315718\n",
              "2019-12-31  0.315718"
            ],
            "text/html": [
              "\n",
              "  <div id=\"df-a1a5447a-916f-4de3-9fbc-477c487c1615\">\n",
              "    <div class=\"colab-df-container\">\n",
              "      <div>\n",
              "<style scoped>\n",
              "    .dataframe tbody tr th:only-of-type {\n",
              "        vertical-align: middle;\n",
              "    }\n",
              "\n",
              "    .dataframe tbody tr th {\n",
              "        vertical-align: top;\n",
              "    }\n",
              "\n",
              "    .dataframe thead th {\n",
              "        text-align: right;\n",
              "    }\n",
              "</style>\n",
              "<table border=\"1\" class=\"dataframe\">\n",
              "  <thead>\n",
              "    <tr style=\"text-align: right;\">\n",
              "      <th></th>\n",
              "      <th>pred</th>\n",
              "    </tr>\n",
              "  </thead>\n",
              "  <tbody>\n",
              "    <tr>\n",
              "      <th>2019-01-31</th>\n",
              "      <td>0.634753</td>\n",
              "    </tr>\n",
              "    <tr>\n",
              "      <th>2019-02-28</th>\n",
              "      <td>0.615426</td>\n",
              "    </tr>\n",
              "    <tr>\n",
              "      <th>2019-03-31</th>\n",
              "      <td>0.615426</td>\n",
              "    </tr>\n",
              "    <tr>\n",
              "      <th>2019-04-30</th>\n",
              "      <td>0.608096</td>\n",
              "    </tr>\n",
              "    <tr>\n",
              "      <th>2019-05-31</th>\n",
              "      <td>0.608096</td>\n",
              "    </tr>\n",
              "    <tr>\n",
              "      <th>2019-06-30</th>\n",
              "      <td>0.608096</td>\n",
              "    </tr>\n",
              "    <tr>\n",
              "      <th>2019-07-31</th>\n",
              "      <td>0.347249</td>\n",
              "    </tr>\n",
              "    <tr>\n",
              "      <th>2019-08-31</th>\n",
              "      <td>0.347249</td>\n",
              "    </tr>\n",
              "    <tr>\n",
              "      <th>2019-09-30</th>\n",
              "      <td>0.347249</td>\n",
              "    </tr>\n",
              "    <tr>\n",
              "      <th>2019-10-31</th>\n",
              "      <td>0.315718</td>\n",
              "    </tr>\n",
              "    <tr>\n",
              "      <th>2019-11-30</th>\n",
              "      <td>0.315718</td>\n",
              "    </tr>\n",
              "    <tr>\n",
              "      <th>2019-12-31</th>\n",
              "      <td>0.315718</td>\n",
              "    </tr>\n",
              "  </tbody>\n",
              "</table>\n",
              "</div>\n",
              "      <button class=\"colab-df-convert\" onclick=\"convertToInteractive('df-a1a5447a-916f-4de3-9fbc-477c487c1615')\"\n",
              "              title=\"Convert this dataframe to an interactive table.\"\n",
              "              style=\"display:none;\">\n",
              "        \n",
              "  <svg xmlns=\"http://www.w3.org/2000/svg\" height=\"24px\"viewBox=\"0 0 24 24\"\n",
              "       width=\"24px\">\n",
              "    <path d=\"M0 0h24v24H0V0z\" fill=\"none\"/>\n",
              "    <path d=\"M18.56 5.44l.94 2.06.94-2.06 2.06-.94-2.06-.94-.94-2.06-.94 2.06-2.06.94zm-11 1L8.5 8.5l.94-2.06 2.06-.94-2.06-.94L8.5 2.5l-.94 2.06-2.06.94zm10 10l.94 2.06.94-2.06 2.06-.94-2.06-.94-.94-2.06-.94 2.06-2.06.94z\"/><path d=\"M17.41 7.96l-1.37-1.37c-.4-.4-.92-.59-1.43-.59-.52 0-1.04.2-1.43.59L10.3 9.45l-7.72 7.72c-.78.78-.78 2.05 0 2.83L4 21.41c.39.39.9.59 1.41.59.51 0 1.02-.2 1.41-.59l7.78-7.78 2.81-2.81c.8-.78.8-2.07 0-2.86zM5.41 20L4 18.59l7.72-7.72 1.47 1.35L5.41 20z\"/>\n",
              "  </svg>\n",
              "      </button>\n",
              "      \n",
              "  <style>\n",
              "    .colab-df-container {\n",
              "      display:flex;\n",
              "      flex-wrap:wrap;\n",
              "      gap: 12px;\n",
              "    }\n",
              "\n",
              "    .colab-df-convert {\n",
              "      background-color: #E8F0FE;\n",
              "      border: none;\n",
              "      border-radius: 50%;\n",
              "      cursor: pointer;\n",
              "      display: none;\n",
              "      fill: #1967D2;\n",
              "      height: 32px;\n",
              "      padding: 0 0 0 0;\n",
              "      width: 32px;\n",
              "    }\n",
              "\n",
              "    .colab-df-convert:hover {\n",
              "      background-color: #E2EBFA;\n",
              "      box-shadow: 0px 1px 2px rgba(60, 64, 67, 0.3), 0px 1px 3px 1px rgba(60, 64, 67, 0.15);\n",
              "      fill: #174EA6;\n",
              "    }\n",
              "\n",
              "    [theme=dark] .colab-df-convert {\n",
              "      background-color: #3B4455;\n",
              "      fill: #D2E3FC;\n",
              "    }\n",
              "\n",
              "    [theme=dark] .colab-df-convert:hover {\n",
              "      background-color: #434B5C;\n",
              "      box-shadow: 0px 1px 3px 1px rgba(0, 0, 0, 0.15);\n",
              "      filter: drop-shadow(0px 1px 2px rgba(0, 0, 0, 0.3));\n",
              "      fill: #FFFFFF;\n",
              "    }\n",
              "  </style>\n",
              "\n",
              "      <script>\n",
              "        const buttonEl =\n",
              "          document.querySelector('#df-a1a5447a-916f-4de3-9fbc-477c487c1615 button.colab-df-convert');\n",
              "        buttonEl.style.display =\n",
              "          google.colab.kernel.accessAllowed ? 'block' : 'none';\n",
              "\n",
              "        async function convertToInteractive(key) {\n",
              "          const element = document.querySelector('#df-a1a5447a-916f-4de3-9fbc-477c487c1615');\n",
              "          const dataTable =\n",
              "            await google.colab.kernel.invokeFunction('convertToInteractive',\n",
              "                                                     [key], {});\n",
              "          if (!dataTable) return;\n",
              "\n",
              "          const docLinkHtml = 'Like what you see? Visit the ' +\n",
              "            '<a target=\"_blank\" href=https://colab.research.google.com/notebooks/data_table.ipynb>data table notebook</a>'\n",
              "            + ' to learn more about interactive tables.';\n",
              "          element.innerHTML = '';\n",
              "          dataTable['output_type'] = 'display_data';\n",
              "          await google.colab.output.renderOutput(dataTable, element);\n",
              "          const docLink = document.createElement('div');\n",
              "          docLink.innerHTML = docLinkHtml;\n",
              "          element.appendChild(docLink);\n",
              "        }\n",
              "      </script>\n",
              "    </div>\n",
              "  </div>\n",
              "  "
            ]
          },
          "metadata": {},
          "execution_count": 39
        }
      ]
    },
    {
      "cell_type": "code",
      "source": [
        "# Gráfico del Backtesting\n",
        "# ========================\n",
        "fig, ax = plt.subplots(figsize=(9, 4))\n",
        "dataset_test['y'].plot(ax=ax, label='test')\n",
        "predicciones_backtest.plot(ax=ax, label='predicciones_backtest')\n",
        "ax.legend();\n"
      ],
      "metadata": {
        "colab": {
          "base_uri": "https://localhost:8080/"
        },
        "id": "22XTLuP8RTbV",
        "outputId": "fc6ac280-942c-4ff0-a264-a9d4df0962a4"
      },
      "execution_count": null,
      "outputs": [
        {
          "output_type": "display_data",
          "data": {
            "text/plain": [
              "<Figure size 648x288 with 1 Axes>"
            ],
            "image/png": "[encoded data removed]"
          },
          "metadata": {
            "needs_background": "light"
          }
        }
      ]
    },
    {
      "cell_type": "code",
      "source": [
        "# Importancia predictores\n",
        "# ==============================================================================\n",
        "impotancia = forecaster.get_feature_importance()\n",
        "impotancia"
      ],
      "metadata": {
        "colab": {
          "base_uri": "https://localhost:8080/"
        },
        "id": "Q72MsIqyR5zV",
        "outputId": "997256e1-f69a-4c57-e407-c1283f2e48c8"
      },
      "execution_count": null,
      "outputs": [
        {
          "output_type": "execute_result",
          "data": {
            "text/plain": [
              "  feature  importance\n",
              "0   lag_1         1.0"
            ],
            "text/html": [
              "\n",
              "  <div id=\"df-5671beb3-1c91-4392-b736-69f77901d9f9\">\n",
              "    <div class=\"colab-df-container\">\n",
              "      <div>\n",
              "<style scoped>\n",
              "    .dataframe tbody tr th:only-of-type {\n",
              "        vertical-align: middle;\n",
              "    }\n",
              "\n",
              "    .dataframe tbody tr th {\n",
              "        vertical-align: top;\n",
              "    }\n",
              "\n",
              "    .dataframe thead th {\n",
              "        text-align: right;\n",
              "    }\n",
              "</style>\n",
              "<table border=\"1\" class=\"dataframe\">\n",
              "  <thead>\n",
              "    <tr style=\"text-align: right;\">\n",
              "      <th></th>\n",
              "      <th>feature</th>\n",
              "      <th>importance</th>\n",
              "    </tr>\n",
              "  </thead>\n",
              "  <tbody>\n",
              "    <tr>\n",
              "      <th>0</th>\n",
              "      <td>lag_1</td>\n",
              "      <td>1.0</td>\n",
              "    </tr>\n",
              "  </tbody>\n",
              "</table>\n",
              "</div>\n",
              "      <button class=\"colab-df-convert\" onclick=\"convertToInteractive('df-5671beb3-1c91-4392-b736-69f77901d9f9')\"\n",
              "              title=\"Convert this dataframe to an interactive table.\"\n",
              "              style=\"display:none;\">\n",
              "        \n",
              "  <svg xmlns=\"http://www.w3.org/2000/svg\" height=\"24px\"viewBox=\"0 0 24 24\"\n",
              "       width=\"24px\">\n",
              "    <path d=\"M0 0h24v24H0V0z\" fill=\"none\"/>\n",
              "    <path d=\"M18.56 5.44l.94 2.06.94-2.06 2.06-.94-2.06-.94-.94-2.06-.94 2.06-2.06.94zm-11 1L8.5 8.5l.94-2.06 2.06-.94-2.06-.94L8.5 2.5l-.94 2.06-2.06.94zm10 10l.94 2.06.94-2.06 2.06-.94-2.06-.94-.94-2.06-.94 2.06-2.06.94z\"/><path d=\"M17.41 7.96l-1.37-1.37c-.4-.4-.92-.59-1.43-.59-.52 0-1.04.2-1.43.59L10.3 9.45l-7.72 7.72c-.78.78-.78 2.05 0 2.83L4 21.41c.39.39.9.59 1.41.59.51 0 1.02-.2 1.41-.59l7.78-7.78 2.81-2.81c.8-.78.8-2.07 0-2.86zM5.41 20L4 18.59l7.72-7.72 1.47 1.35L5.41 20z\"/>\n",
              "  </svg>\n",
              "      </button>\n",
              "      \n",
              "  <style>\n",
              "    .colab-df-container {\n",
              "      display:flex;\n",
              "      flex-wrap:wrap;\n",
              "      gap: 12px;\n",
              "    }\n",
              "\n",
              "    .colab-df-convert {\n",
              "      background-color: #E8F0FE;\n",
              "      border: none;\n",
              "      border-radius: 50%;\n",
              "      cursor: pointer;\n",
              "      display: none;\n",
              "      fill: #1967D2;\n",
              "      height: 32px;\n",
              "      padding: 0 0 0 0;\n",
              "      width: 32px;\n",
              "    }\n",
              "\n",
              "    .colab-df-convert:hover {\n",
              "      background-color: #E2EBFA;\n",
              "      box-shadow: 0px 1px 2px rgba(60, 64, 67, 0.3), 0px 1px 3px 1px rgba(60, 64, 67, 0.15);\n",
              "      fill: #174EA6;\n",
              "    }\n",
              "\n",
              "    [theme=dark] .colab-df-convert {\n",
              "      background-color: #3B4455;\n",
              "      fill: #D2E3FC;\n",
              "    }\n",
              "\n",
              "    [theme=dark] .colab-df-convert:hover {\n",
              "      background-color: #434B5C;\n",
              "      box-shadow: 0px 1px 3px 1px rgba(0, 0, 0, 0.15);\n",
              "      filter: drop-shadow(0px 1px 2px rgba(0, 0, 0, 0.3));\n",
              "      fill: #FFFFFF;\n",
              "    }\n",
              "  </style>\n",
              "\n",
              "      <script>\n",
              "        const buttonEl =\n",
              "          document.querySelector('#df-5671beb3-1c91-4392-b736-69f77901d9f9 button.colab-df-convert');\n",
              "        buttonEl.style.display =\n",
              "          google.colab.kernel.accessAllowed ? 'block' : 'none';\n",
              "\n",
              "        async function convertToInteractive(key) {\n",
              "          const element = document.querySelector('#df-5671beb3-1c91-4392-b736-69f77901d9f9');\n",
              "          const dataTable =\n",
              "            await google.colab.kernel.invokeFunction('convertToInteractive',\n",
              "                                                     [key], {});\n",
              "          if (!dataTable) return;\n",
              "\n",
              "          const docLinkHtml = 'Like what you see? Visit the ' +\n",
              "            '<a target=\"_blank\" href=https://colab.research.google.com/notebooks/data_table.ipynb>data table notebook</a>'\n",
              "            + ' to learn more about interactive tables.';\n",
              "          element.innerHTML = '';\n",
              "          dataTable['output_type'] = 'display_data';\n",
              "          await google.colab.output.renderOutput(dataTable, element);\n",
              "          const docLink = document.createElement('div');\n",
              "          docLink.innerHTML = docLinkHtml;\n",
              "          element.appendChild(docLink);\n",
              "        }\n",
              "      </script>\n",
              "    </div>\n",
              "  </div>\n",
              "  "
            ]
          },
          "metadata": {},
          "execution_count": 41
        }
      ]
    },
    {
      "cell_type": "code",
      "source": [
        "variables_exog = ['EuriborM', 'ParoT', 'SalarioMedio', 'IPC','CTotalConsumo']\n",
        "fin_train = '31/12/2018'\n",
        "forecaster.fit(\n",
        "    y= dataset.loc[:fin_train:,'y'],\n",
        "    exog= dataset.loc[:fin_train:, variables_exog]\n",
        "    ) # Entrenamiento con conjuntos de train\n",
        "forecaster"
      ],
      "metadata": {
        "colab": {
          "base_uri": "https://localhost:8080/"
        },
        "id": "vfbh3LXpgbo4",
        "outputId": "cb6ecc58-7677-4467-a7f6-74144adae4cb"
      },
      "execution_count": null,
      "outputs": [
        {
          "output_type": "execute_result",
          "data": {
            "text/plain": [
              "================= \n",
              "ForecasterAutoreg \n",
              "================= \n",
              "Regressor: RandomForestRegressor(max_depth=3, random_state=123) \n",
              "Lags: [1] \n",
              "Transformer for y: None \n",
              "Transformer for exog: None \n",
              "Window size: 1 \n",
              "Weight function included: False \n",
              "Exogenous included: True \n",
              "Type of exogenous variable: <class 'pandas.core.frame.DataFrame'> \n",
              "Exogenous variables names: ['EuriborM', 'ParoT', 'SalarioMedio', 'IPC', 'CTotalConsumo'] \n",
              "Training range: [Timestamp('2002-01-31 00:00:00'), Timestamp('2018-12-31 00:00:00')] \n",
              "Training index type: DatetimeIndex \n",
              "Training index frequency: M \n",
              "Regressor parameters: {'bootstrap': True, 'ccp_alpha': 0.0, 'criterion': 'squared_error', 'max_depth': 3, 'max_features': 'auto', 'max_leaf_nodes': None, 'max_samples': None, 'min_impurity_decrease': 0.0, 'min_samples_leaf': 1, 'min_samples_split': 2, 'min_weight_fraction_leaf': 0.0, 'n_estimators': 100, 'n_jobs': None, 'oob_score': False, 'random_state': 123, 'verbose': 0, 'warm_start': False} \n",
              "Creation date: 2023-01-29 09:51:54 \n",
              "Last fit date: 2023-01-29 09:51:55 \n",
              "Skforecast version: 0.6.0 \n",
              "Python version: 3.8.10 "
            ]
          },
          "metadata": {},
          "execution_count": 42
        }
      ]
    },
    {
      "cell_type": "code",
      "source": [
        "exog_siguientes_12meses = dataset_test[variables_exog][:12]\n",
        "\n",
        "predicciones = forecaster.predict(steps=12, exog=exog_siguientes_12meses)\n",
        "predicciones"
      ],
      "metadata": {
        "colab": {
          "base_uri": "https://localhost:8080/"
        },
        "id": "rdrbaYFtgh-x",
        "outputId": "6a5c41cb-4430-4409-a1d1-0e8762cb0a71"
      },
      "execution_count": null,
      "outputs": [
        {
          "output_type": "execute_result",
          "data": {
            "text/plain": [
              "2019-01-31    0.623131\n",
              "2019-02-28    0.601345\n",
              "2019-03-31    0.597902\n",
              "2019-04-30    0.615199\n",
              "2019-05-31    0.601345\n",
              "2019-06-30    0.597902\n",
              "2019-07-31    0.599133\n",
              "2019-08-31    0.597902\n",
              "2019-09-30    0.597902\n",
              "2019-10-31    0.615199\n",
              "2019-11-30    0.601345\n",
              "2019-12-31    0.597902\n",
              "Freq: M, Name: pred, dtype: float64"
            ]
          },
          "metadata": {},
          "execution_count": 43
        }
      ]
    },
    {
      "cell_type": "code",
      "source": [
        "# Backtesting\n",
        "# ==============================================================================\n",
        "steps = 3\n",
        "n_backtesting = steps*4 #Se separan el útltimo año para el backtest\n",
        "metrica, predicciones_backtest = backtesting_forecaster(\n",
        "                                    forecaster         = forecaster,\n",
        "                                    y                  = dataset['y'],\n",
        "                                    exog               = dataset[variables_exog],\n",
        "                                    initial_train_size = len(dataset) - n_backtesting,\n",
        "                                    fixed_train_size   = False,\n",
        "                                    steps              = steps,\n",
        "                                    refit              = True,\n",
        "                                    metric             = 'mean_squared_error',\n",
        "                                    verbose            = True\n",
        "                                 )\n",
        "\n",
        "print(f\"Error de backtest: {metrica}\",'\\n')\n",
        "predicciones_backtest"
      ],
      "metadata": {
        "colab": {
          "base_uri": "https://localhost:8080/"
        },
        "id": "_yEiQR19goOt",
        "outputId": "d141f119-abbf-4da1-a071-41e754436fa8"
      },
      "execution_count": null,
      "outputs": [
        {
          "output_type": "stream",
          "name": "stdout",
          "text": [
            "Information of backtesting process\n",
            "----------------------------------\n",
            "Number of observations used for initial training: 204\n",
            "Number of observations used for backtesting: 12\n",
            "    Number of folds: 4\n",
            "    Number of steps per fold: 3\n",
            "\n",
            "Data partition in fold: 0\n",
            "    Training:   2002-01-31 00:00:00 -- 2018-12-31 00:00:00  (n=204)\n",
            "    Validation: 2019-01-31 00:00:00 -- 2019-03-31 00:00:00  (n=3)\n",
            "Data partition in fold: 1\n",
            "    Training:   2002-01-31 00:00:00 -- 2019-03-31 00:00:00  (n=207)\n",
            "    Validation: 2019-04-30 00:00:00 -- 2019-06-30 00:00:00  (n=3)\n",
            "Data partition in fold: 2\n",
            "    Training:   2002-01-31 00:00:00 -- 2019-06-30 00:00:00  (n=210)\n",
            "    Validation: 2019-07-31 00:00:00 -- 2019-09-30 00:00:00  (n=3)\n",
            "Data partition in fold: 3\n",
            "    Training:   2002-01-31 00:00:00 -- 2019-09-30 00:00:00  (n=213)\n",
            "    Validation: 2019-10-31 00:00:00 -- 2019-12-31 00:00:00  (n=3)\n",
            "\n",
            "Error de backtest: 0.026522646064880324 \n",
            "\n"
          ]
        },
        {
          "output_type": "execute_result",
          "data": {
            "text/plain": [
              "                pred\n",
              "2019-01-31  0.623131\n",
              "2019-02-28  0.601345\n",
              "2019-03-31  0.597902\n",
              "2019-04-30  0.612999\n",
              "2019-05-31  0.597372\n",
              "2019-06-30  0.595476\n",
              "2019-07-31  0.370154\n",
              "2019-08-31  0.417020\n",
              "2019-09-30  0.523142\n",
              "2019-10-31  0.343685\n",
              "2019-11-30  0.345173\n",
              "2019-12-31  0.345173"
            ],
            "text/html": [
              "\n",
              "  <div id=\"df-5a73c61e-f78f-4c45-bdf1-559342cded6f\">\n",
              "    <div class=\"colab-df-container\">\n",
              "      <div>\n",
              "<style scoped>\n",
              "    .dataframe tbody tr th:only-of-type {\n",
              "        vertical-align: middle;\n",
              "    }\n",
              "\n",
              "    .dataframe tbody tr th {\n",
              "        vertical-align: top;\n",
              "    }\n",
              "\n",
              "    .dataframe thead th {\n",
              "        text-align: right;\n",
              "    }\n",
              "</style>\n",
              "<table border=\"1\" class=\"dataframe\">\n",
              "  <thead>\n",
              "    <tr style=\"text-align: right;\">\n",
              "      <th></th>\n",
              "      <th>pred</th>\n",
              "    </tr>\n",
              "  </thead>\n",
              "  <tbody>\n",
              "    <tr>\n",
              "      <th>2019-01-31</th>\n",
              "      <td>0.623131</td>\n",
              "    </tr>\n",
              "    <tr>\n",
              "      <th>2019-02-28</th>\n",
              "      <td>0.601345</td>\n",
              "    </tr>\n",
              "    <tr>\n",
              "      <th>2019-03-31</th>\n",
              "      <td>0.597902</td>\n",
              "    </tr>\n",
              "    <tr>\n",
              "      <th>2019-04-30</th>\n",
              "      <td>0.612999</td>\n",
              "    </tr>\n",
              "    <tr>\n",
              "      <th>2019-05-31</th>\n",
              "      <td>0.597372</td>\n",
              "    </tr>\n",
              "    <tr>\n",
              "      <th>2019-06-30</th>\n",
              "      <td>0.595476</td>\n",
              "    </tr>\n",
              "    <tr>\n",
              "      <th>2019-07-31</th>\n",
              "      <td>0.370154</td>\n",
              "    </tr>\n",
              "    <tr>\n",
              "      <th>2019-08-31</th>\n",
              "      <td>0.417020</td>\n",
              "    </tr>\n",
              "    <tr>\n",
              "      <th>2019-09-30</th>\n",
              "      <td>0.523142</td>\n",
              "    </tr>\n",
              "    <tr>\n",
              "      <th>2019-10-31</th>\n",
              "      <td>0.343685</td>\n",
              "    </tr>\n",
              "    <tr>\n",
              "      <th>2019-11-30</th>\n",
              "      <td>0.345173</td>\n",
              "    </tr>\n",
              "    <tr>\n",
              "      <th>2019-12-31</th>\n",
              "      <td>0.345173</td>\n",
              "    </tr>\n",
              "  </tbody>\n",
              "</table>\n",
              "</div>\n",
              "      <button class=\"colab-df-convert\" onclick=\"convertToInteractive('df-5a73c61e-f78f-4c45-bdf1-559342cded6f')\"\n",
              "              title=\"Convert this dataframe to an interactive table.\"\n",
              "              style=\"display:none;\">\n",
              "        \n",
              "  <svg xmlns=\"http://www.w3.org/2000/svg\" height=\"24px\"viewBox=\"0 0 24 24\"\n",
              "       width=\"24px\">\n",
              "    <path d=\"M0 0h24v24H0V0z\" fill=\"none\"/>\n",
              "    <path d=\"M18.56 5.44l.94 2.06.94-2.06 2.06-.94-2.06-.94-.94-2.06-.94 2.06-2.06.94zm-11 1L8.5 8.5l.94-2.06 2.06-.94-2.06-.94L8.5 2.5l-.94 2.06-2.06.94zm10 10l.94 2.06.94-2.06 2.06-.94-2.06-.94-.94-2.06-.94 2.06-2.06.94z\"/><path d=\"M17.41 7.96l-1.37-1.37c-.4-.4-.92-.59-1.43-.59-.52 0-1.04.2-1.43.59L10.3 9.45l-7.72 7.72c-.78.78-.78 2.05 0 2.83L4 21.41c.39.39.9.59 1.41.59.51 0 1.02-.2 1.41-.59l7.78-7.78 2.81-2.81c.8-.78.8-2.07 0-2.86zM5.41 20L4 18.59l7.72-7.72 1.47 1.35L5.41 20z\"/>\n",
              "  </svg>\n",
              "      </button>\n",
              "      \n",
              "  <style>\n",
              "    .colab-df-container {\n",
              "      display:flex;\n",
              "      flex-wrap:wrap;\n",
              "      gap: 12px;\n",
              "    }\n",
              "\n",
              "    .colab-df-convert {\n",
              "      background-color: #E8F0FE;\n",
              "      border: none;\n",
              "      border-radius: 50%;\n",
              "      cursor: pointer;\n",
              "      display: none;\n",
              "      fill: #1967D2;\n",
              "      height: 32px;\n",
              "      padding: 0 0 0 0;\n",
              "      width: 32px;\n",
              "    }\n",
              "\n",
              "    .colab-df-convert:hover {\n",
              "      background-color: #E2EBFA;\n",
              "      box-shadow: 0px 1px 2px rgba(60, 64, 67, 0.3), 0px 1px 3px 1px rgba(60, 64, 67, 0.15);\n",
              "      fill: #174EA6;\n",
              "    }\n",
              "\n",
              "    [theme=dark] .colab-df-convert {\n",
              "      background-color: #3B4455;\n",
              "      fill: #D2E3FC;\n",
              "    }\n",
              "\n",
              "    [theme=dark] .colab-df-convert:hover {\n",
              "      background-color: #434B5C;\n",
              "      box-shadow: 0px 1px 3px 1px rgba(0, 0, 0, 0.15);\n",
              "      filter: drop-shadow(0px 1px 2px rgba(0, 0, 0, 0.3));\n",
              "      fill: #FFFFFF;\n",
              "    }\n",
              "  </style>\n",
              "\n",
              "      <script>\n",
              "        const buttonEl =\n",
              "          document.querySelector('#df-5a73c61e-f78f-4c45-bdf1-559342cded6f button.colab-df-convert');\n",
              "        buttonEl.style.display =\n",
              "          google.colab.kernel.accessAllowed ? 'block' : 'none';\n",
              "\n",
              "        async function convertToInteractive(key) {\n",
              "          const element = document.querySelector('#df-5a73c61e-f78f-4c45-bdf1-559342cded6f');\n",
              "          const dataTable =\n",
              "            await google.colab.kernel.invokeFunction('convertToInteractive',\n",
              "                                                     [key], {});\n",
              "          if (!dataTable) return;\n",
              "\n",
              "          const docLinkHtml = 'Like what you see? Visit the ' +\n",
              "            '<a target=\"_blank\" href=https://colab.research.google.com/notebooks/data_table.ipynb>data table notebook</a>'\n",
              "            + ' to learn more about interactive tables.';\n",
              "          element.innerHTML = '';\n",
              "          dataTable['output_type'] = 'display_data';\n",
              "          await google.colab.output.renderOutput(dataTable, element);\n",
              "          const docLink = document.createElement('div');\n",
              "          docLink.innerHTML = docLinkHtml;\n",
              "          element.appendChild(docLink);\n",
              "        }\n",
              "      </script>\n",
              "    </div>\n",
              "  </div>\n",
              "  "
            ]
          },
          "metadata": {},
          "execution_count": 44
        }
      ]
    },
    {
      "cell_type": "code",
      "source": [
        "# Gráfico del Backtesting\n",
        "# ========================\n",
        "fig, ax = plt.subplots(figsize=(9, 4))\n",
        "dataset_test['y'].plot(ax=ax, label='test')\n",
        "predicciones_backtest.plot(ax=ax, label='predicciones_backtest')\n",
        "ax.legend();"
      ],
      "metadata": {
        "colab": {
          "base_uri": "https://localhost:8080/",
          "height": 290
        },
        "id": "vFnaH7szgo5k",
        "outputId": "b27044f1-58f2-470a-8d3f-32be90184f7a"
      },
      "execution_count": null,
      "outputs": [
        {
          "output_type": "display_data",
          "data": {
            "text/plain": [
              "<Figure size 648x288 with 1 Axes>"
            ],
            "image/png": "[encoded data removed]"
          },
          "metadata": {
            "needs_background": "light"
          }
        }
      ]
    }
  ]
}