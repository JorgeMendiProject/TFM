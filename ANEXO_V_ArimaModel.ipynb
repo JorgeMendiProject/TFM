{
  "nbformat": 4,
  "nbformat_minor": 0,
  "metadata": {
    "colab": {
      "provenance": []
    },
    "kernelspec": {
      "name": "python3",
      "display_name": "Python 3"
    },
    "language_info": {
      "name": "python"
    }
  },
  "cells": [
    {
      "cell_type": "code",
      "source": [
        "!pip install skforecast"
      ],
      "metadata": {
        "id": "sy6Mcsz6BgYn"
      },
      "execution_count": null,
      "outputs": []
    },
    {
      "cell_type": "code",
      "metadata": {
        "id": "-1AbQDftPsF4"
      },
      "source": [
        "import numpy as np\n",
        "import pandas as pd\n",
        "import seaborn as sns\n",
        "from pandas.plotting import scatter_matrix\n",
        "import missingno as msno\n",
        "import matplotlib.pyplot as plt\n",
        "from statsmodels.tsa.stattools import adfuller\n",
        "import statsmodels.api as sm\n",
        "import statsmodels.formula.api as smf\n",
        "from statsmodels.tsa.arima_model import ARIMA\n",
        "from statsmodels.graphics.tsaplots import plot_acf\n",
        "import matplotlib.dates as mdates\n",
        "from sklearn.metrics import mean_squared_error\n",
        "\n",
        "%matplotlib inline"
      ],
      "execution_count": 1,
      "outputs": []
    },
    {
      "cell_type": "code",
      "source": [
        "# Descarga de datos\n",
        "# ======================\n",
        "file = ('https://raw.githubusercontent.com/JorgeMendiProject/TFM/main/DatasetInterpolado.csv')\n",
        "\n",
        "# Lectura de datos a partir del archivo .csv             \n",
        "\n",
        "df = pd.read_csv(file, delimiter=';')\n",
        "df.info()"
      ],
      "metadata": {
        "id": "rNjtVelSWUh2"
      },
      "execution_count": null,
      "outputs": []
    },
    {
      "cell_type": "code",
      "source": [
        "# Convertimos la variable Fecha\n",
        "df['Fecha'] = pd.to_datetime(df['Fecha'], format='%d/%m/%Y')\n",
        "df = df.set_index('Fecha')\n",
        "\n",
        "#Creamos las variables con año y mes para analizar las series temporales\n",
        "\n",
        "df['Year'] = df.index.year\n",
        "df['Month'] = df.index.month"
      ],
      "metadata": {
        "id": "uqKeL7uPXtlm"
      },
      "execution_count": 3,
      "outputs": []
    },
    {
      "cell_type": "code",
      "source": [
        "list_to_plot = ['TasaTPIB','EuriborM',\n",
        "       'ParoT', 'SalarioMedio', 'IPC', 'CTotalConsumo']   "
      ],
      "metadata": {
        "id": "OCDnckUhptys"
      },
      "execution_count": 4,
      "outputs": []
    },
    {
      "cell_type": "code",
      "source": [
        "# P- valor\n",
        "# la prueba ADF sirve para comprobar si existe estacionalidad en las variables, \n",
        "# Cuando el estadístico de prueba es menor que el valor crítico mostrado, rechaza la hipótesis nula e infiere que la serie de tiempo es estacional.\n",
        "# Si adf es menor que el P-valor se infiere que hay estacionalidad\n",
        "\n",
        "from statsmodels.tsa.stattools import adfuller\n",
        "for i in list_to_plot:\n",
        "  X = df[i].values\n",
        "  X = np.nan_to_num(X)\n",
        "  result = adfuller(X)\n",
        "  print(i), print('ADF Statistic: %f' % result[0]), print('p-value: %f' % result[1]), print('Critical Values:')\n",
        "  for key, value in result[4].items():\n",
        "    print('\\t%s: %.3f' % (key, value))\n"
      ],
      "metadata": {
        "id": "IkeOsqhzLyRO"
      },
      "execution_count": null,
      "outputs": []
    },
    {
      "cell_type": "code",
      "source": [
        "# Factores autorregresivos de las variables, se puede interpretar que las variables TasaPIB, EuriborM, ParoT, SalarioMedio,\n",
        "# tiene un factor autorregresivo lo que implica que lo que esta pasando en el momento T actual,\n",
        "# tiene que ver con lo que el valor que alcanzó la variable en el momento anterior.\n",
        "# Sin embargo en el caso del IPC existe una mayor dispersión y parece que no existe esta relación.\n",
        "\n",
        "from pandas.plotting import lag_plot\n",
        "for i in list_to_plot:\n",
        "  print(i)\n",
        "  lag_plot(df[i])\n",
        "  plt.show()"
      ],
      "metadata": {
        "id": "rOoQKRNTLzMD"
      },
      "execution_count": null,
      "outputs": []
    },
    {
      "cell_type": "code",
      "source": [
        "# Primera diferenciación\n",
        "\n",
        "df_diff = df.diff()\n",
        "df_diff['Year'] = df['Year']\n",
        "df_diff['Month'] = df['Month']"
      ],
      "metadata": {
        "id": "bX7zz3L8W79O"
      },
      "execution_count": 7,
      "outputs": []
    },
    {
      "cell_type": "code",
      "source": [
        "# P- valor\n",
        "# la prueba ADF sirve para comprobar si existe estacionalidad en las variables,\n",
        "# Cuando el estadístico de prueba es menor que el valor crítico mostrado, rechaza la hipótesis nula e infiere que la serie de tiempo es estacional.\n",
        "# Si adf es menor que el P-valor se infiere que hay estacionalidad\n",
        "\n",
        "from statsmodels.tsa.stattools import adfuller\n",
        "for i in list_to_plot:\n",
        "  X = df_diff[i].values\n",
        "  X = np.nan_to_num(X)\n",
        "  result = adfuller(X)\n",
        "  print(i), print('ADF Statistic: %f' % result[0]), print('p-value: %f' % result[1]), print('Critical Values:')\n",
        "  for key, value in result[4].items():\n",
        "    print('\\t%s: %.3f' % (key, value))"
      ],
      "metadata": {
        "id": "t5cGGbnKL_Rr"
      },
      "execution_count": null,
      "outputs": []
    },
    {
      "cell_type": "code",
      "source": [
        "# Factores autorregresivos de las variables, se puede interpretar que las variables TasaPIB, EuriborM, ParoT, SalarioMedio \n",
        "# tiene un factor autorregresivo lo que implica que lo que esta pasando en el momento T actual,\n",
        "# tiene que ver con lo que el valor que alcanzó la variable en el momento anterior.\n",
        "#Sin embargo en el caso del IPC existe una mayor dispersión y parece que no existe esta relación.\n",
        "\n",
        "from pandas.plotting import lag_plot\n",
        "for i in list_to_plot:\n",
        "  print(i)\n",
        "  lag_plot(df_diff[i])\n",
        "  plt.show()"
      ],
      "metadata": {
        "id": "BlNd0pC7MCJc"
      },
      "execution_count": null,
      "outputs": []
    },
    {
      "cell_type": "code",
      "source": [
        "# Segunda diferenciación\n",
        "\n",
        "df_diff_diff = df.diff().diff()\n",
        "df_diff_diff['Year'] = df['Year']\n",
        "df_diff_diff['Month'] = df['Month']"
      ],
      "metadata": {
        "id": "30hrmghmrC31"
      },
      "execution_count": 10,
      "outputs": []
    },
    {
      "cell_type": "code",
      "source": [
        "# P- valor\n",
        "# la prueba ADF sirve para comprobar si existe estacionalidad en las variables, Cuando el estadístico de prueba es menor que el valor crítico mostrado,\n",
        "# rechaza la hipótesis nula e infiere que la serie de tiempo es estacional. Si adf es menor que el P-valor se infiere que hay estacionalidad\n",
        "\n",
        "from statsmodels.tsa.stattools import adfuller\n",
        "for i in list_to_plot:\n",
        "  X = df_diff_diff[i].values\n",
        "  X = np.nan_to_num(X)\n",
        "  result = adfuller(X)\n",
        "  print(i), print('ADF Statistic: %f' % result[0]), print('p-value: %f' % result[1]), print('Critical Values:')\n",
        "  for key, value in result[4].items():\n",
        "    print('\\t%s: %.3f' % (key, value))"
      ],
      "metadata": {
        "id": "cCVTNdAyr7RR"
      },
      "execution_count": null,
      "outputs": []
    },
    {
      "cell_type": "code",
      "source": [
        "# Factores autorregresivos de las variables, se puede interpretar que las variables TasaPIB, EuriborM, ParoT, SalarioMedio,\n",
        "# tiene un factor autorregresivo lo que implica que lo que esta pasando en el momento T actual,\n",
        "# tiene que ver con lo que el valor que alcanzó la variable en el momento anterior.\n",
        "# Sin embargo en el caso del IPC existe una mayor dispersión y parece que no existe esta relación.\n",
        "\n",
        "from pandas.plotting import lag_plot\n",
        "for i in list_to_plot:\n",
        "  print(i)\n",
        "  lag_plot(df_diff_diff[i])\n",
        "  plt.show()"
      ],
      "metadata": {
        "id": "W5jF5nwdsHLN"
      },
      "execution_count": null,
      "outputs": []
    },
    {
      "cell_type": "code",
      "source": [
        "# Descomposición de series temporales\n",
        "\n",
        "from statsmodels.tsa.seasonal import STL\n",
        "for i in list_to_plot:\n",
        "  plt.rc('figure',figsize=(16,12))\n",
        "  plt.rc('font',size=10)\n",
        "  Y = df[i].fillna(0)\n",
        "  stl = STL(Y)\n",
        "  res = stl.fit()\n",
        "  fig = res.plot()"
      ],
      "metadata": {
        "id": "1-1iVHIFs6u4"
      },
      "execution_count": null,
      "outputs": []
    },
    {
      "cell_type": "code",
      "source": [
        "# Descomposición de series temporales\n",
        "\n",
        "from statsmodels.tsa.seasonal import STL\n",
        "for i in list_to_plot:\n",
        "  plt.rc('figure',figsize=(16,12))\n",
        "  plt.rc('font',size=10)\n",
        "  Y = df_diff[i].fillna(0)\n",
        "  stl = STL(Y)\n",
        "  res = stl.fit()\n",
        "  fig = res.plot()"
      ],
      "metadata": {
        "id": "VIMg-4kaxzaY"
      },
      "execution_count": null,
      "outputs": []
    },
    {
      "cell_type": "code",
      "source": [
        "# define list_to_plot\n",
        "list_to_plot = ['TasaTPIB','EuriborM','IPC']  \n",
        "\n",
        "# define order_model\n",
        "order_model = [(1,1,1), (1,1,2), (2,1,1)]\n",
        "\n",
        "# Ejecuta todos los posibles modelos del order model, para todas las variables y devuelve el Modelo que mejor se ajusta\n",
        "\n",
        "best_model = {}\n",
        "model_results = []\n",
        "for i in list_to_plot:\n",
        "  counter = 0\n",
        "  previous_best_aic_model = 0\n",
        "  for j in order_model:\n",
        "    # fit model\n",
        "    model = sm.tsa.arima.ARIMA(df_diff[i].dropna(), order=j, dates=np.array(df_diff.reset_index().Fecha[1:]), freq='M')\n",
        "    model_fit = model.fit()\n",
        "    model_results.append((\"TasaTPIB\", i, \" Model AIC \", model_fit.aic, \" Model Specification \", j))\n",
        "    if counter == 0:\n",
        "      previous_best_aic_model = model_fit.aic\n",
        "      best_model[i] = j\n",
        "      counter +=1\n",
        "    else:\n",
        "      if previous_best_aic_model > model_fit.aic:\n",
        "        previous_best_aic_model = model_fit.aic\n",
        "        best_model[i] = j\n",
        "        counter +=1\n",
        "      else:\n",
        "        counter+=1\n",
        "    # summary of fit model\n",
        "    print(model_fit.summary())\n",
        "    # line plot of residuals\n",
        "    residuals = pd.DataFrame(model_fit.resid) \n",
        "    residuals.plot()\n",
        "    plt.show()\n",
        "    # density plot of residuals \n",
        "    residuals.plot(kind='kde') \n",
        "    plt.show()\n",
        "    # summary stats of residuals\n",
        "    print(residuals.describe())\n"
      ],
      "metadata": {
        "id": "saSUO1mZZR10"
      },
      "execution_count": null,
      "outputs": []
    },
    {
      "cell_type": "code",
      "source": [
        "# Se imprime el mejor modelo para cada variable\n",
        "\n",
        "best_model"
      ],
      "metadata": {
        "id": "V8VRXXRfdx5B"
      },
      "execution_count": null,
      "outputs": []
    },
    {
      "cell_type": "code",
      "source": [
        "# Imprime un resumen con el mejor modelo ARIMA para cada variable\n",
        "\n",
        "for key in best_model:\n",
        "  model = sm.tsa.arima.ARIMA(df_diff[key].dropna(), order=best_model[key])\n",
        "  model_fit = model.fit()\n",
        "  # print(model_fit.aic, i, j)\n",
        "  # summary of fit model\n",
        "  print(model_fit.summary())\n",
        "  # line plot of residuals\n",
        "  residuals = pd.DataFrame(model_fit.resid) \n",
        "  residuals.plot()\n",
        "  plt.show()\n",
        "  # density plot of residuals \n",
        "  residuals.plot(kind='kde') \n",
        "  plt.show()\n",
        "  # summary stats of residuals\n",
        "  print(residuals.describe())"
      ],
      "metadata": {
        "id": "QSlIY0Svd-DT"
      },
      "execution_count": null,
      "outputs": []
    },
    {
      "cell_type": "code",
      "source": [
        "# Modelado para predicción con Df.diff\n",
        "\n",
        "# {'TasaTPIB': (1, 1, 1), 'EuriborM': (1, 1, 2), 'IPC': (1, 1, 2)}\n",
        "\n",
        "PIB_model = sm.tsa.arima.ARIMA(df_diff['TasaTPIB'].dropna(), order=(1, 1, 1 ))\n",
        "PIB_fit = PIB_model.fit()\n",
        "Euribor_model = sm.tsa.arima.ARIMA(df_diff['EuriborM'].dropna(), order=(1, 1, 2))\n",
        "Euribor_fit = Euribor_model.fit()\n",
        "IPC_model = sm.tsa.arima.ARIMA(df_diff['IPC'].dropna(), order=(1, 1, 2))\n",
        "IPC_fit = IPC_model.fit()\n"
      ],
      "metadata": {
        "id": "TRnVpBs9ejXm"
      },
      "execution_count": null,
      "outputs": []
    },
    {
      "cell_type": "code",
      "source": [
        "#PIB model\n",
        "PIB_model_impulse = PIB_model.impulse_responses(params=PIB_fit.params, steps=12, cumulative=False)\n",
        "PIB_model_impulse.plot()\n",
        "     \n",
        "#Euribor model\n",
        "Euribor_model_impulse = Euribor_model.impulse_responses(params=Euribor_fit.params, steps=12, cumulative=False)\n",
        "Euribor_model_impulse.plot()\n",
        "\n",
        "#IPC model\n",
        "IPC_model_impulse = IPC_model.impulse_responses(params=IPC_fit.params, steps=12, cumulative=False)\n",
        "IPC_model_impulse.plot()\n"
      ],
      "metadata": {
        "id": "NI21MDrbfDfD"
      },
      "execution_count": null,
      "outputs": []
    },
    {
      "cell_type": "code",
      "source": [
        "PIB_model = ARIMA(df_diff['TasaTPIB'].dropna(), order=(1, 1, 2))\n",
        "PIB_fit = PIB_model.fit()\n",
        "print(len(df_diff))\n",
        "\n",
        "end = len(df)\n",
        "PIB_model_impulse = PIB_fit.plot_predict(end=end)\n",
        "\n",
        "m_train = 12\n",
        "\n",
        "df_train = df[:-m_train] \n",
        "df_test = df[-m_train:]\n",
        "\n",
        "print(\"Ejemplos usados para entrenar: \", len(df_train))\n",
        "print(\"Ejemplos usados para test: \", len(df_test))\n",
        "\n",
        "df_test['TasaTPIB'].dropna().plot() #azúl\n",
        "\n",
        "df_test['TasaTPIB'].diff().dropna().plot() #Naranja\n",
        "\n",
        "pred, stderr, conf_int = PIB_fit.forecast(steps=12)\n",
        "print(\"Intervalo de predicción: [{}, {}]\".format(conf_int[0][0], conf_int[0][1]))\n",
        "\n",
        "y_true = df_test['TasaTPIB'].dropna()\n",
        "y_pred = pred\n",
        "\n",
        "mse = mean_squared_error(y_true, y_pred)\n",
        "print(\"MSE: \", mse)\n"
      ],
      "metadata": {
        "id": "DuDgvLRafcW4"
      },
      "execution_count": null,
      "outputs": []
    }
  ]
}